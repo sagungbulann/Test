{
 "cells": [
  {
   "cell_type": "code",
   "execution_count": 4,
   "id": "d3ab774f",
   "metadata": {},
   "outputs": [
    {
     "name": "stdout",
     "output_type": "stream",
     "text": [
      "41\n",
      "50000\n",
      "2050000\n"
     ]
    }
   ],
   "source": [
    "mahasiswa = 41\n",
    "uang_di_dompet = 50000\n",
    "print(mahasiswa)\n",
    "print(uang_di_dompet)\n",
    "print(mahasiswa*uang_di_dompet)"
   ]
  },
  {
   "cell_type": "code",
   "execution_count": 3,
   "id": "3cc7ea3b",
   "metadata": {},
   "outputs": [
    {
     "name": "stdout",
     "output_type": "stream",
     "text": [
      "Sagung Indraswari\n"
     ]
    }
   ],
   "source": [
    "nama_depan = 'Sagung'\n",
    "nama_tengah = ' '\n",
    "nama_belakang = \"Indraswari\"\n",
    "print(nama_depan + nama_tengah + nama_belakang)"
   ]
  },
  {
   "cell_type": "code",
   "execution_count": 5,
   "id": "2b35dee9",
   "metadata": {},
   "outputs": [
    {
     "name": "stdout",
     "output_type": "stream",
     "text": [
      "siapa nama anda? Sagung\n",
      "apakah kegiatan anda sekarang, Sagung? Belajar\n",
      "Semangat Belajarnya yah,Sagung!\n"
     ]
    }
   ],
   "source": [
    "nama = input (\"siapa nama anda? \")\n",
    "kegiatan = input('apakah kegiatan anda sekarang, ' + nama +\"? \")\n",
    "print(\"Semangat \"+ kegiatan +\"nya yah,\"+nama+\"!\")"
   ]
  },
  {
   "cell_type": "code",
   "execution_count": 1,
   "id": "b3e5c3a3",
   "metadata": {},
   "outputs": [
    {
     "name": "stdout",
     "output_type": "stream",
     "text": [
      "5\n"
     ]
    }
   ],
   "source": [
    "print(2+3)"
   ]
  },
  {
   "cell_type": "code",
   "execution_count": 2,
   "id": "9f8af577",
   "metadata": {},
   "outputs": [
    {
     "name": "stdout",
     "output_type": "stream",
     "text": [
      "4\n"
     ]
    }
   ],
   "source": [
    "x=3\n",
    "x+=1\n",
    "print(x)"
   ]
  },
  {
   "cell_type": "code",
   "execution_count": 3,
   "id": "a5cd73c7",
   "metadata": {},
   "outputs": [
    {
     "name": "stdout",
     "output_type": "stream",
     "text": [
      "8\n"
     ]
    }
   ],
   "source": [
    "print(2**3)"
   ]
  },
  {
   "cell_type": "code",
   "execution_count": 4,
   "id": "09733414",
   "metadata": {},
   "outputs": [
    {
     "name": "stdout",
     "output_type": "stream",
     "text": [
      "True\n"
     ]
    }
   ],
   "source": [
    "x=3>2\n",
    "print(x)"
   ]
  },
  {
   "cell_type": "code",
   "execution_count": 3,
   "id": "c24a5eef",
   "metadata": {},
   "outputs": [
    {
     "name": "stdout",
     "output_type": "stream",
     "text": [
      "masukan bilangan pertama: 7\n",
      "masukan bilangan kedua: 8\n",
      "jumlah kedua bilangan adalah 15.0\n"
     ]
    }
   ],
   "source": [
    "bilangan_satu = input (\"masukan bilangan pertama: \")\n",
    "bilangan_dua = input (\"masukan bilangan kedua: \")\n",
    "jumlah = float (bilangan_satu) + float (bilangan_dua)\n",
    "print (\"jumlah kedua bilangan adalah \" + str(jumlah))"
   ]
  },
  {
   "cell_type": "markdown",
   "id": "0e6dfd68",
   "metadata": {},
   "source": [
    "Formatted String"
   ]
  },
  {
   "cell_type": "code",
   "execution_count": 11,
   "id": "afc10c1f",
   "metadata": {},
   "outputs": [
    {
     "name": "stdout",
     "output_type": "stream",
     "text": [
      "Vladimir adalah seorang guru di SD Pertiwi.\n"
     ]
    }
   ],
   "source": [
    "nama = \"Vladimir\"\n",
    "pekerjaan = 'guru'\n",
    "institusi ='SD Pertiwi'\n",
    "print(nama + ' adalah seorang '+ pekerjaan + ' di ' + institusi + '.' )"
   ]
  },
  {
   "cell_type": "code",
   "execution_count": 12,
   "id": "84f6bb7e",
   "metadata": {},
   "outputs": [
    {
     "name": "stdout",
     "output_type": "stream",
     "text": [
      "Vladimir adalah seorang guru di SD Pertiwi.\n"
     ]
    }
   ],
   "source": [
    "print(f'{nama} adalah seorang {pekerjaan} di {institusi}.')"
   ]
  },
  {
   "cell_type": "markdown",
   "id": "6e7b6f4d",
   "metadata": {},
   "source": [
    "String Index"
   ]
  },
  {
   "cell_type": "code",
   "execution_count": 18,
   "id": "cc3191ca",
   "metadata": {},
   "outputs": [],
   "source": [
    "kelas = 'ini kelas algoritma'"
   ]
  },
  {
   "cell_type": "code",
   "execution_count": 19,
   "id": "647eea50",
   "metadata": {},
   "outputs": [
    {
     "name": "stdout",
     "output_type": "stream",
     "text": [
      "ini\n"
     ]
    }
   ],
   "source": [
    "print(kelas[0:3])"
   ]
  },
  {
   "cell_type": "code",
   "execution_count": 20,
   "id": "719a228b",
   "metadata": {},
   "outputs": [
    {
     "name": "stdout",
     "output_type": "stream",
     "text": [
      "ini kelas algoritm\n"
     ]
    }
   ],
   "source": [
    "print(kelas[0:-1])"
   ]
  },
  {
   "cell_type": "code",
   "execution_count": 21,
   "id": "624c6a8c",
   "metadata": {},
   "outputs": [
    {
     "name": "stdout",
     "output_type": "stream",
     "text": [
      "elas algo\n"
     ]
    }
   ],
   "source": [
    "print(kelas[5:-5])"
   ]
  },
  {
   "cell_type": "code",
   "execution_count": 22,
   "id": "7c61e0c9",
   "metadata": {},
   "outputs": [
    {
     "name": "stdout",
     "output_type": "stream",
     "text": [
      "ini kelas algor\n"
     ]
    }
   ],
   "source": [
    "print(kelas[:-4])"
   ]
  },
  {
   "cell_type": "code",
   "execution_count": 23,
   "id": "565aafdb",
   "metadata": {},
   "outputs": [
    {
     "name": "stdout",
     "output_type": "stream",
     "text": [
      "i kelas algoritma\n"
     ]
    }
   ],
   "source": [
    "print(kelas[2:])"
   ]
  },
  {
   "cell_type": "markdown",
   "id": "627ec765",
   "metadata": {},
   "source": [
    "String Methods"
   ]
  },
  {
   "cell_type": "code",
   "execution_count": 24,
   "id": "7e4484a4",
   "metadata": {},
   "outputs": [],
   "source": [
    "judul =\"Bali Surga Dunia\""
   ]
  },
  {
   "cell_type": "code",
   "execution_count": 25,
   "id": "08b4567c",
   "metadata": {},
   "outputs": [
    {
     "name": "stdout",
     "output_type": "stream",
     "text": [
      "16\n"
     ]
    }
   ],
   "source": [
    "print(len(judul))"
   ]
  },
  {
   "cell_type": "code",
   "execution_count": 26,
   "id": "90f65bac",
   "metadata": {},
   "outputs": [
    {
     "data": {
      "text/plain": [
       "'BALI SURGA DUNIA'"
      ]
     },
     "execution_count": 26,
     "metadata": {},
     "output_type": "execute_result"
    }
   ],
   "source": [
    "judul.upper()"
   ]
  },
  {
   "cell_type": "code",
   "execution_count": 27,
   "id": "1d782aa2",
   "metadata": {},
   "outputs": [
    {
     "data": {
      "text/plain": [
       "'bali surga dunia'"
      ]
     },
     "execution_count": 27,
     "metadata": {},
     "output_type": "execute_result"
    }
   ],
   "source": [
    "judul.lower()"
   ]
  },
  {
   "cell_type": "code",
   "execution_count": 28,
   "id": "3a0e76db",
   "metadata": {},
   "outputs": [
    {
     "data": {
      "text/plain": [
       "5"
      ]
     },
     "execution_count": 28,
     "metadata": {},
     "output_type": "execute_result"
    }
   ],
   "source": [
    "judul.find('Surga')"
   ]
  },
  {
   "cell_type": "code",
   "execution_count": 29,
   "id": "5bd57cf8",
   "metadata": {},
   "outputs": [
    {
     "data": {
      "text/plain": [
       "11"
      ]
     },
     "execution_count": 29,
     "metadata": {},
     "output_type": "execute_result"
    }
   ],
   "source": [
    "judul.find('Dunia')"
   ]
  },
  {
   "cell_type": "code",
   "execution_count": 33,
   "id": "1d3a7168",
   "metadata": {},
   "outputs": [
    {
     "data": {
      "text/plain": [
       "0"
      ]
     },
     "execution_count": 33,
     "metadata": {},
     "output_type": "execute_result"
    }
   ],
   "source": [
    "judul.find('Bali')"
   ]
  },
  {
   "cell_type": "code",
   "execution_count": 37,
   "id": "4189e079",
   "metadata": {},
   "outputs": [
    {
     "data": {
      "text/plain": [
       "8"
      ]
     },
     "execution_count": 37,
     "metadata": {},
     "output_type": "execute_result"
    }
   ],
   "source": [
    "judul.find('ga')"
   ]
  },
  {
   "cell_type": "code",
   "execution_count": 42,
   "id": "923fd38a",
   "metadata": {},
   "outputs": [
    {
     "data": {
      "text/plain": [
       "-1"
      ]
     },
     "execution_count": 42,
     "metadata": {},
     "output_type": "execute_result"
    }
   ],
   "source": [
    "judul.find('bali')"
   ]
  },
  {
   "cell_type": "code",
   "execution_count": 43,
   "id": "9c66b37b",
   "metadata": {},
   "outputs": [
    {
     "data": {
      "text/plain": [
       "'Indonesia Surga Dunia'"
      ]
     },
     "execution_count": 43,
     "metadata": {},
     "output_type": "execute_result"
    }
   ],
   "source": [
    "judul.replace('Bali', 'Indonesia')"
   ]
  },
  {
   "cell_type": "code",
   "execution_count": 45,
   "id": "36ca23bb",
   "metadata": {},
   "outputs": [
    {
     "data": {
      "text/plain": [
       "'Bali Surga Dunia'"
      ]
     },
     "execution_count": 45,
     "metadata": {},
     "output_type": "execute_result"
    }
   ],
   "source": [
    "judul.replace('bali', 'Indonesia')"
   ]
  },
  {
   "cell_type": "code",
   "execution_count": 46,
   "id": "755496e1",
   "metadata": {},
   "outputs": [
    {
     "name": "stdout",
     "output_type": "stream",
     "text": [
      "True\n"
     ]
    }
   ],
   "source": [
    "print('Bali' in judul)"
   ]
  },
  {
   "cell_type": "code",
   "execution_count": 47,
   "id": "69128188",
   "metadata": {},
   "outputs": [
    {
     "name": "stdout",
     "output_type": "stream",
     "text": [
      "False\n"
     ]
    }
   ],
   "source": [
    "print('bali' in judul)"
   ]
  },
  {
   "cell_type": "markdown",
   "id": "056084ef",
   "metadata": {},
   "source": [
    "Operasi Matematika di Python"
   ]
  },
  {
   "cell_type": "code",
   "execution_count": 63,
   "id": "02cce0ad",
   "metadata": {},
   "outputs": [
    {
     "name": "stdout",
     "output_type": "stream",
     "text": [
      "5\n",
      "-1\n",
      "10\n",
      "3.5\n",
      "3\n",
      "1\n",
      "4\n",
      "2\n",
      "6\n"
     ]
    }
   ],
   "source": [
    "print(2+3)\n",
    "print(2-3)\n",
    "print(2*5)\n",
    "print(7/2)\n",
    "print(7//2)\n",
    "print(7%3)\n",
    "x=3\n",
    "x+=1\n",
    "print(x)\n",
    "x-=2\n",
    "print(x)\n",
    "x*=3\n",
    "print(x)"
   ]
  },
  {
   "cell_type": "markdown",
   "id": "109f8adf",
   "metadata": {},
   "source": [
    "Operator Perbandingan di Python\n",
    "Lebih besar(>)\n",
    "Lebih kecil(<)\n",
    "Lebih besar sama dengan (>=)\n",
    "Lebih kecil sama dengan (<=)\n",
    "Sama dengan (==)\n",
    "Tidak sama dengan (!=)"
   ]
  },
  {
   "cell_type": "code",
   "execution_count": 54,
   "id": "b6f7e2d0",
   "metadata": {},
   "outputs": [
    {
     "name": "stdout",
     "output_type": "stream",
     "text": [
      "True\n"
     ]
    }
   ],
   "source": [
    "x=2<3\n",
    "print(x)"
   ]
  },
  {
   "cell_type": "code",
   "execution_count": 55,
   "id": "8885c2b5",
   "metadata": {},
   "outputs": [
    {
     "name": "stdout",
     "output_type": "stream",
     "text": [
      "True\n"
     ]
    }
   ],
   "source": [
    "x=3!=4\n",
    "print(x)"
   ]
  },
  {
   "cell_type": "code",
   "execution_count": 56,
   "id": "b655a4d0",
   "metadata": {},
   "outputs": [
    {
     "name": "stdout",
     "output_type": "stream",
     "text": [
      "False\n"
     ]
    }
   ],
   "source": [
    "x= 3<2\n",
    "print(x)"
   ]
  },
  {
   "cell_type": "code",
   "execution_count": 57,
   "id": "0ae8eed0",
   "metadata": {},
   "outputs": [
    {
     "name": "stdout",
     "output_type": "stream",
     "text": [
      "False\n"
     ]
    }
   ],
   "source": [
    "x=3==4\n",
    "print(x)"
   ]
  },
  {
   "cell_type": "markdown",
   "id": "d069cfcd",
   "metadata": {},
   "source": [
    "Operator Logika di Python\n",
    "and, or dan not\n",
    "and bernilai true jika kedua nilai true\n",
    "or bernilai true jika salah satu nilainya true\n",
    "not akan menghasilkan nilai berlawanan"
   ]
  },
  {
   "cell_type": "code",
   "execution_count": 64,
   "id": "c37c810d",
   "metadata": {},
   "outputs": [
    {
     "name": "stdout",
     "output_type": "stream",
     "text": [
      "True\n"
     ]
    }
   ],
   "source": [
    "buah_manggis=10\n",
    "buah_mangga=15\n",
    "print(buah_manggis > 8 and buah_mangga <20)"
   ]
  },
  {
   "cell_type": "code",
   "execution_count": 65,
   "id": "96d2b906",
   "metadata": {},
   "outputs": [
    {
     "name": "stdout",
     "output_type": "stream",
     "text": [
      "True\n"
     ]
    }
   ],
   "source": [
    "print(buah_manggis < 8 or buah_mangga < 20)"
   ]
  },
  {
   "cell_type": "code",
   "execution_count": 66,
   "id": "9e3e4dc9",
   "metadata": {},
   "outputs": [
    {
     "name": "stdout",
     "output_type": "stream",
     "text": [
      "False\n"
     ]
    }
   ],
   "source": [
    "print(buah_manggis < 8 or buah_mangga >20)"
   ]
  },
  {
   "cell_type": "code",
   "execution_count": 69,
   "id": "e6c9d62c",
   "metadata": {},
   "outputs": [
    {
     "name": "stdout",
     "output_type": "stream",
     "text": [
      "True\n"
     ]
    }
   ],
   "source": [
    "print(not (buah_manggis < 8 or buah_mangga > 20))"
   ]
  },
  {
   "cell_type": "code",
   "execution_count": 70,
   "id": "b334bed1",
   "metadata": {},
   "outputs": [
    {
     "name": "stdout",
     "output_type": "stream",
     "text": [
      "False\n"
     ]
    }
   ],
   "source": [
    "print(buah_manggis < 9 and buah_mangga <17)"
   ]
  },
  {
   "cell_type": "code",
   "execution_count": 71,
   "id": "cf01cb51",
   "metadata": {},
   "outputs": [
    {
     "name": "stdout",
     "output_type": "stream",
     "text": [
      "True\n"
     ]
    }
   ],
   "source": [
    "print(not (buah_manggis <9 and buah_mangga < 17))"
   ]
  },
  {
   "cell_type": "markdown",
   "id": "c0954ee2",
   "metadata": {},
   "source": [
    "Operator if di Python"
   ]
  },
  {
   "cell_type": "code",
   "execution_count": 74,
   "id": "e29e4202",
   "metadata": {},
   "outputs": [
    {
     "name": "stdout",
     "output_type": "stream",
     "text": [
      "Nilai anda adalah 100\n",
      "Anda mendapatkan nilai A\n",
      "Bagus sekali, selamat!\n"
     ]
    }
   ],
   "source": [
    "nilai = float(input(\"Nilai anda adalah \"))\n",
    "if nilai >=80:\n",
    "    print(\"Anda mendapatkan nilai A\")\n",
    "    print(\"Bagus sekali, selamat!\")\n",
    "if nilai <80 and nilai >=70:\n",
    "    print(\"Anda mendapatkan nilai B\")\n",
    "    print(\"Tingkatkan prestasimu!\")\n",
    "if nilai>=60 and nilai <70:\n",
    "    print(\"Anda mendapatkan nilai C\")\n",
    "    print(\"Lain kali harus lebih baik\")\n",
    "if nilai >=50 and nilai <60:\n",
    "    print(\"Anda mendapatkan nilai D\")\n",
    "    print(\"Ulang lagi tahun depan\")\n",
    "if nilai <50:\n",
    "    print(\"Anda mendapatkan nilai E\")\n",
    "    print(\"Sampai Jumpa Tahun Depan\")"
   ]
  },
  {
   "cell_type": "code",
   "execution_count": 76,
   "id": "d195e33e",
   "metadata": {},
   "outputs": [
    {
     "name": "stdout",
     "output_type": "stream",
     "text": [
      "Nilai anda adalah 85\n",
      "Anda mendapatkan nilai A\n",
      "Bagus sekali, selamat!\n"
     ]
    }
   ],
   "source": [
    "nilai = float(input(\"Nilai anda adalah \"))\n",
    "if nilai >=80:\n",
    "    print(\"Anda mendapatkan nilai A\")\n",
    "    print(\"Bagus sekali, selamat!\")\n",
    "elif nilai >=70:\n",
    "    print(\"Anda mendapatkan nilai B\")\n",
    "    print(\"Tingkatkan prestasimu!\")\n",
    "elif nilai>=60:\n",
    "    print(\"Anda mendapatkan nilai C\")\n",
    "    print(\"Lain kali harus lebih baik\")\n",
    "elif nilai >=50:\n",
    "    print(\"Anda mendapatkan nilai D\")\n",
    "    print(\"Ulang lagi tahun depan\")\n",
    "else:\n",
    "    print(\"Anda mendapatkan nilai E\")\n",
    "    print(\"Sampai Jumpa Tahun Depan\")"
   ]
  },
  {
   "cell_type": "code",
   "execution_count": 89,
   "id": "89b4ac9b",
   "metadata": {},
   "outputs": [
    {
     "name": "stdout",
     "output_type": "stream",
     "text": [
      "Berapakah tinggi anda? 64\n",
      "Tingginya dalam cm atau inci? INCI\n",
      "Tinggi anda adalah 162.5599122176474 cm\n"
     ]
    }
   ],
   "source": [
    "tinggi=float(input(\"Berapakah tinggi anda? \"))\n",
    "cm_atau_inci=input(\"Tingginya dalam cm atau inci? \")\n",
    "\n",
    "if cm_atau_inci.lower()== 'cm' :\n",
    "    tinggi=tinggi*0.393701\n",
    "    print(\"Tinggi anda adalah \" + str(tinggi) + \" inci\")\n",
    "elif cm_atau_inci.lower()== 'inci':\n",
    "    tinggi=tinggi/0.393701\n",
    "    print(f\"Tinggi anda adalah {tinggi} cm\")"
   ]
  },
  {
   "cell_type": "code",
   "execution_count": 91,
   "id": "b6c88e6a",
   "metadata": {},
   "outputs": [
    {
     "name": "stdout",
     "output_type": "stream",
     "text": [
      "Berapakah tinggi anda? 163\n",
      "Tingginya dalam cm atau inci? cm\n",
      "Tinggi anda adalah 64.173263 inci\n"
     ]
    }
   ],
   "source": [
    "tinggi=float(input(\"Berapakah tinggi anda? \"))\n",
    "cm_atau_inci=input(\"Tingginya dalam cm atau inci? \")\n",
    "\n",
    "if cm_atau_inci.upper()== 'CM' :\n",
    "    tinggi=tinggi*0.393701\n",
    "    print(\"Tinggi anda adalah \" + str(tinggi) + \" inci\")\n",
    "elif cm_atau_inci.upper()== 'INCI':\n",
    "    tinggi=tinggi/0.393701\n",
    "    print(f\"Tinggi anda adalah {tinggi} cm\")"
   ]
  },
  {
   "cell_type": "markdown",
   "id": "fe517d47",
   "metadata": {},
   "source": [
    "WHILE LOOP"
   ]
  },
  {
   "cell_type": "code",
   "execution_count": 109,
   "id": "c70e34c5",
   "metadata": {},
   "outputs": [
    {
     "name": "stdout",
     "output_type": "stream",
     "text": [
      "\n",
      "* \n",
      "* * \n",
      "* * * \n",
      "* * * * \n"
     ]
    }
   ],
   "source": [
    "a = 0\n",
    "while a < 5:\n",
    "    print(a * '* ')\n",
    "    a +=1"
   ]
  },
  {
   "cell_type": "code",
   "execution_count": 99,
   "id": "52a8d5b0",
   "metadata": {},
   "outputs": [
    {
     "name": "stdout",
     "output_type": "stream",
     "text": [
      "Angka 0 masih dibawah 5\n",
      "Angka 1 masih dibawah 5\n",
      "Angka 2 masih dibawah 5\n",
      "Angka 3 masih dibawah 5\n",
      "Angka 4 masih dibawah 5\n"
     ]
    }
   ],
   "source": [
    "a=0\n",
    "while a<5:\n",
    "    print(\"Angka \" + str(a)+\" masih dibawah 5\")\n",
    "    a +=1"
   ]
  },
  {
   "cell_type": "markdown",
   "id": "d1323602",
   "metadata": {},
   "source": [
    "LIST DI PYTHON"
   ]
  },
  {
   "cell_type": "code",
   "execution_count": 105,
   "id": "c479bd33",
   "metadata": {},
   "outputs": [
    {
     "name": "stdout",
     "output_type": "stream",
     "text": [
      "['mangga', 'pisang', 'rambutan', 'durian']\n"
     ]
    }
   ],
   "source": [
    "buah= ['mangga', 'pisang', 'rambutan', 'durian']\n",
    "print(buah)"
   ]
  },
  {
   "cell_type": "code",
   "execution_count": 106,
   "id": "40b4ccb2",
   "metadata": {},
   "outputs": [
    {
     "name": "stdout",
     "output_type": "stream",
     "text": [
      "mangga\n"
     ]
    }
   ],
   "source": [
    "print(buah[0])"
   ]
  },
  {
   "cell_type": "code",
   "execution_count": 107,
   "id": "47823a06",
   "metadata": {},
   "outputs": [
    {
     "name": "stdout",
     "output_type": "stream",
     "text": [
      "pisang\n"
     ]
    }
   ],
   "source": [
    "print(buah[-3])"
   ]
  },
  {
   "cell_type": "code",
   "execution_count": 108,
   "id": "d995923b",
   "metadata": {},
   "outputs": [
    {
     "name": "stdout",
     "output_type": "stream",
     "text": [
      "['salak', 'pisang', 'rambutan', 'durian']\n"
     ]
    }
   ],
   "source": [
    "buah[0]='salak'\n",
    "print(buah)"
   ]
  },
  {
   "cell_type": "code",
   "execution_count": 110,
   "id": "a5a23c3a",
   "metadata": {},
   "outputs": [
    {
     "name": "stdout",
     "output_type": "stream",
     "text": [
      "['salak', 'pisang', 'rambutan', 'durian']\n"
     ]
    }
   ],
   "source": [
    "#tidak merubah list\n",
    "print(buah)"
   ]
  },
  {
   "cell_type": "markdown",
   "id": "c442ff8e",
   "metadata": {},
   "source": [
    "METODA LIST"
   ]
  },
  {
   "cell_type": "code",
   "execution_count": 111,
   "id": "61639574",
   "metadata": {},
   "outputs": [
    {
     "name": "stdout",
     "output_type": "stream",
     "text": [
      "['Made', 'Eka', 'Dwi', 'Sari']\n"
     ]
    }
   ],
   "source": [
    "nama=['Made', 'Eka', 'Dwi']\n",
    "nama.append('Sari')\n",
    "print(nama)"
   ]
  },
  {
   "cell_type": "code",
   "execution_count": 112,
   "id": "e6335f26",
   "metadata": {},
   "outputs": [
    {
     "name": "stdout",
     "output_type": "stream",
     "text": [
      "['Dewi', 'Made', 'Eka', 'Dwi', 'Sari']\n"
     ]
    }
   ],
   "source": [
    "nama.insert(0,'Dewi')\n",
    "print(nama)"
   ]
  },
  {
   "cell_type": "code",
   "execution_count": 113,
   "id": "f66af5bb",
   "metadata": {},
   "outputs": [
    {
     "name": "stdout",
     "output_type": "stream",
     "text": [
      "['Dewi', 'Made', 'Dwi', 'Sari']\n"
     ]
    }
   ],
   "source": [
    "nama.remove('Eka')\n",
    "print(nama)"
   ]
  },
  {
   "cell_type": "code",
   "execution_count": 114,
   "id": "89d5547d",
   "metadata": {},
   "outputs": [
    {
     "name": "stdout",
     "output_type": "stream",
     "text": [
      "['Dewi', 'Made', 'Dwi', 'Agung', 'Sari']\n"
     ]
    }
   ],
   "source": [
    "nama.insert(3, 'Agung')\n",
    "print(nama)"
   ]
  },
  {
   "cell_type": "code",
   "execution_count": 115,
   "id": "a689b13e",
   "metadata": {},
   "outputs": [
    {
     "name": "stdout",
     "output_type": "stream",
     "text": [
      "True\n"
     ]
    }
   ],
   "source": [
    "print('Made' in nama)"
   ]
  },
  {
   "cell_type": "code",
   "execution_count": 116,
   "id": "3f6bb964",
   "metadata": {},
   "outputs": [
    {
     "name": "stdout",
     "output_type": "stream",
     "text": [
      "5\n"
     ]
    }
   ],
   "source": [
    "print(len(nama))"
   ]
  },
  {
   "cell_type": "markdown",
   "id": "d7130cb8",
   "metadata": {},
   "source": [
    "FOR LOOP"
   ]
  },
  {
   "cell_type": "code",
   "execution_count": 118,
   "id": "2c23dfd9",
   "metadata": {},
   "outputs": [
    {
     "name": "stdout",
     "output_type": "stream",
     "text": [
      "manggis\n",
      "durian\n",
      "salak\n",
      "jeruk\n"
     ]
    }
   ],
   "source": [
    "buah=['manggis', 'durian', 'salak', 'jeruk']\n",
    "for jenis in buah:\n",
    "    print(jenis)"
   ]
  },
  {
   "cell_type": "code",
   "execution_count": 119,
   "id": "28a1e092",
   "metadata": {},
   "outputs": [
    {
     "name": "stdout",
     "output_type": "stream",
     "text": [
      "manggis\n",
      "durian\n",
      "salak\n",
      "jeruk\n"
     ]
    }
   ],
   "source": [
    "i=0\n",
    "while i<len(buah):\n",
    "    print(buah[i])\n",
    "    i+=1"
   ]
  },
  {
   "cell_type": "markdown",
   "id": "fc9ed0ff",
   "metadata": {},
   "source": [
    "FUNGSI RANGE"
   ]
  },
  {
   "cell_type": "code",
   "execution_count": 120,
   "id": "34990727",
   "metadata": {},
   "outputs": [
    {
     "name": "stdout",
     "output_type": "stream",
     "text": [
      "range(0, 6)\n"
     ]
    }
   ],
   "source": [
    "angka = range(6)\n",
    "print(angka)"
   ]
  },
  {
   "cell_type": "code",
   "execution_count": 121,
   "id": "9254c779",
   "metadata": {},
   "outputs": [
    {
     "name": "stdout",
     "output_type": "stream",
     "text": [
      "0\n",
      "1\n",
      "2\n",
      "3\n",
      "4\n",
      "5\n"
     ]
    }
   ],
   "source": [
    "for isi in angka:\n",
    "    print(isi)"
   ]
  },
  {
   "cell_type": "code",
   "execution_count": 124,
   "id": "c5a43f25",
   "metadata": {},
   "outputs": [
    {
     "name": "stdout",
     "output_type": "stream",
     "text": [
      "0\n",
      "2\n",
      "4\n",
      "6\n",
      "8\n"
     ]
    }
   ],
   "source": [
    "for isi in range(0,10,2):\n",
    "    print(isi)"
   ]
  },
  {
   "cell_type": "code",
   "execution_count": 125,
   "id": "8befe29b",
   "metadata": {},
   "outputs": [
    {
     "name": "stdout",
     "output_type": "stream",
     "text": [
      "9\n"
     ]
    }
   ],
   "source": [
    "data = [1,3,2,5,4,6,7,9,8]\n",
    "terbesar = data[0]\n",
    "for angka in data:\n",
    "    if angka > terbesar:\n",
    "        terbesar = angka\n",
    "print(terbesar)"
   ]
  },
  {
   "cell_type": "markdown",
   "id": "374acc54",
   "metadata": {},
   "source": [
    "Buatlah program untuk membuat anggota list menjadi unik dengan kata\n",
    "lain tidak ada anggota list yang kembar.\n",
    "Cara nya adalah dengan membandingkan setiap anggota list. Jika ternyata\n",
    "ada anggota list yang kembar, anggota tersebut langsung dihapus dari\n",
    "dalam list."
   ]
  },
  {
   "cell_type": "code",
   "execution_count": 130,
   "id": "14fb5273",
   "metadata": {},
   "outputs": [
    {
     "name": "stdout",
     "output_type": "stream",
     "text": [
      "[1, 2, 3, 4, 5, 6, 7, 8]\n"
     ]
    }
   ],
   "source": [
    "angka = [1,2,3,4,5,6,7,8,7,5,3,6]\n",
    "angka_unik = []\n",
    "for anggota in angka:\n",
    "    if anggota not in angka_unik:\n",
    "        angka_unik.append(anggota)\n",
    "print(angka_unik)"
   ]
  },
  {
   "cell_type": "code",
   "execution_count": 131,
   "id": "bc6f192a",
   "metadata": {},
   "outputs": [
    {
     "name": "stdout",
     "output_type": "stream",
     "text": [
      "[1]\n",
      "[1, 2]\n",
      "[1, 2, 3]\n",
      "[1, 2, 3, 4]\n",
      "[1, 2, 3, 4, 5]\n",
      "[1, 2, 3, 4, 5, 6]\n",
      "[1, 2, 3, 4, 5, 6, 7]\n",
      "[1, 2, 3, 4, 5, 6, 7, 8]\n"
     ]
    }
   ],
   "source": [
    "angka = [1,2,3,4,5,6,7,8,7,5,3,6]\n",
    "angka_unik = []\n",
    "for anggota in angka:\n",
    "    if anggota not in angka_unik:\n",
    "        angka_unik.append(anggota)\n",
    "        print(angka_unik)"
   ]
  },
  {
   "cell_type": "markdown",
   "id": "edd5a0e3",
   "metadata": {},
   "source": [
    "LIST 2 DIMENSI"
   ]
  },
  {
   "cell_type": "code",
   "execution_count": 2,
   "id": "b7e95829",
   "metadata": {},
   "outputs": [
    {
     "name": "stdout",
     "output_type": "stream",
     "text": [
      "[[1, 2, 3, 4], [5, 6, 7, 8], [9, 10, 11, 12], [13, 14, 15, 16, 17]]\n"
     ]
    }
   ],
   "source": [
    "matriks = [\n",
    "    [1,2,3,4],\n",
    "    [5,6,7,8],\n",
    "    [9,10,11,12,],\n",
    "    [13,14,15,16,17]\n",
    "]\n",
    "print(matriks)"
   ]
  },
  {
   "cell_type": "code",
   "execution_count": 133,
   "id": "942ac71b",
   "metadata": {},
   "outputs": [
    {
     "data": {
      "text/plain": [
       "[5, 6, 7, 8]"
      ]
     },
     "execution_count": 133,
     "metadata": {},
     "output_type": "execute_result"
    }
   ],
   "source": [
    "matriks[1]"
   ]
  },
  {
   "cell_type": "code",
   "execution_count": 134,
   "id": "4f5eaf21",
   "metadata": {},
   "outputs": [
    {
     "data": {
      "text/plain": [
       "[1, 2, 3, 4]"
      ]
     },
     "execution_count": 134,
     "metadata": {},
     "output_type": "execute_result"
    }
   ],
   "source": [
    "matriks[0]"
   ]
  },
  {
   "cell_type": "code",
   "execution_count": 135,
   "id": "8ef92686",
   "metadata": {},
   "outputs": [
    {
     "data": {
      "text/plain": [
       "7"
      ]
     },
     "execution_count": 135,
     "metadata": {},
     "output_type": "execute_result"
    }
   ],
   "source": [
    "matriks[1][2]"
   ]
  },
  {
   "cell_type": "code",
   "execution_count": 138,
   "id": "d9860544",
   "metadata": {},
   "outputs": [
    {
     "name": "stdout",
     "output_type": "stream",
     "text": [
      "[1, 2, 3, 4]\n",
      "1\n",
      "2\n",
      "3\n",
      "4\n",
      "[5, 6, 7, 8]\n",
      "5\n",
      "6\n",
      "7\n",
      "8\n",
      "[9, 10, 11, 12]\n",
      "9\n",
      "10\n",
      "11\n",
      "12\n",
      "[13, 14, 15, 16, 17]\n",
      "13\n",
      "14\n",
      "15\n",
      "16\n",
      "17\n"
     ]
    }
   ],
   "source": [
    "for baris in matriks:\n",
    "    print(baris)\n",
    "    for kolom in baris:\n",
    "        print(kolom)"
   ]
  },
  {
   "cell_type": "code",
   "execution_count": 13,
   "id": "12646f98",
   "metadata": {},
   "outputs": [],
   "source": [
    "def full_nama (first_name, last_name):\n",
    "    print(f\"Nama lengkapnya adalah {first_name} {last_name}\")"
   ]
  },
  {
   "cell_type": "code",
   "execution_count": 17,
   "id": "76388c32",
   "metadata": {},
   "outputs": [
    {
     "name": "stdout",
     "output_type": "stream",
     "text": [
      "Nama depan anda adalah Sagung\n",
      "Nama belakang anda adalah Bulan\n",
      "Nama lengkapnya adalah SagungBulan\n"
     ]
    }
   ],
   "source": [
    "first_name = input(\"Nama depan anda adalah \")\n",
    "last_name = input (\"Nama belakang anda adalah \")\n",
    "full_nama (first_name, last_name)"
   ]
  },
  {
   "cell_type": "code",
   "execution_count": 18,
   "id": "8d6d8c1a",
   "metadata": {},
   "outputs": [],
   "source": [
    "def waktu_sampai (jarak,kecepatan):\n",
    "    waktu = jarak/kecepatan\n",
    "    print(waktu)"
   ]
  },
  {
   "cell_type": "code",
   "execution_count": 19,
   "id": "99191dad",
   "metadata": {},
   "outputs": [],
   "source": [
    "def waktu_tempuh (jarak, kecepatan):\n",
    "    waktu = jarak/kecepatan\n",
    "    return waktu"
   ]
  },
  {
   "cell_type": "code",
   "execution_count": 20,
   "id": "0196916f",
   "metadata": {},
   "outputs": [
    {
     "name": "stdout",
     "output_type": "stream",
     "text": [
      "1.3333333333333333\n"
     ]
    }
   ],
   "source": [
    "waktu_sampai (80,60)"
   ]
  },
  {
   "cell_type": "code",
   "execution_count": 23,
   "id": "3adc104a",
   "metadata": {},
   "outputs": [
    {
     "name": "stdout",
     "output_type": "stream",
     "text": [
      "1.3333333333333333\n"
     ]
    }
   ],
   "source": [
    "a = waktu_tempuh(80,60)\n",
    "print(a)"
   ]
  },
  {
   "cell_type": "code",
   "execution_count": 24,
   "id": "4fce93d9",
   "metadata": {},
   "outputs": [],
   "source": [
    "import numpy as np"
   ]
  },
  {
   "cell_type": "code",
   "execution_count": 25,
   "id": "7317a053",
   "metadata": {},
   "outputs": [],
   "source": [
    "def luas_segitiga (alas, tinggi):\n",
    "    luas = (1/2)*alas*tinggi\n",
    "    return luas\n",
    "def luas_lingkaran (jari_jari):\n",
    "    luas = np.pi*(jari_jari**2)\n",
    "    return luas\n",
    "def luas_persegi (sisi):\n",
    "    luas = sisi**2\n",
    "    return luas\n",
    "def luas_persegi_panjang (panjang, lebar):\n",
    "    luas = panjang*lebar\n",
    "    return luas"
   ]
  },
  {
   "cell_type": "code",
   "execution_count": 27,
   "id": "be7ec230",
   "metadata": {},
   "outputs": [
    {
     "name": "stdout",
     "output_type": "stream",
     "text": [
      "Tulis jenis bidangnya PERSEGI\n",
      "Berapakah panjang sisinya? 4\n",
      "LuasPERSEGI adalah 16.0\n"
     ]
    }
   ],
   "source": [
    "jenis_bidang = input(\"Tulis jenis bidangnya \")\n",
    "if jenis_bidang.upper() == 'SEGITIGA':\n",
    "    alas = float(input('Berapakah panjang alasnya?'))\n",
    "    tinggi = float(input('Berapakah tingginya? '))\n",
    "    luas = luas_segitiga (alas,tinggi)\n",
    "    print(f\"Luas{jenis_bidang} adalah {luas}\")\n",
    "elif jenis_bidang.upper() == 'LINGKARAN':\n",
    "    jari_jari = float (input('Berapakah panjang jari-jarinya? '))\n",
    "    luas = luas_lingkaran(jari_jari)\n",
    "    print(f\"Luas{jenis_bidang} adalah {luas}\")\n",
    "elif (jenis_bidang.upper() == 'PERSEGI') or (jenis_bidang.upper() == 'BUJUR SANGKAR'):\n",
    "    sisi = float (input('Berapakah panjang sisinya? '))\n",
    "    luas = luas_persegi(sisi)\n",
    "    print(f\"Luas{jenis_bidang} adalah {luas}\")\n",
    "elif jenis_bidang.upper() == 'PERSEGI PANJANG':\n",
    "    panjang = float (input('Berapakah panjang panjangnya? '))\n",
    "    lebar = float(input('Berapakah lebarnya? '))\n",
    "    print(f\"Luas{jenis_bidang} adalah {luas}\")\n",
    "else:\n",
    "    print(f\"Maaf bidang {jenis_bidang} yang anda masukan tidak ada.\")\n",
    "    print(\"Pilihan cuma SEGITIGA, LINGKARAN, PERSEGI dan PERSEGI PANJANG.\")\n",
    "    print('Terimakasih')"
   ]
  },
  {
   "cell_type": "code",
   "execution_count": 3,
   "id": "4cd4b79c",
   "metadata": {},
   "outputs": [],
   "source": [
    "import numpy as np"
   ]
  },
  {
   "cell_type": "code",
   "execution_count": 4,
   "id": "3a7d51a5",
   "metadata": {},
   "outputs": [
    {
     "name": "stdout",
     "output_type": "stream",
     "text": [
      "[0 1 2 3 4]\n"
     ]
    }
   ],
   "source": [
    "a = np.array ([0,1,2,3,4])\n",
    "print(a)"
   ]
  },
  {
   "cell_type": "code",
   "execution_count": 8,
   "id": "379a2c75",
   "metadata": {},
   "outputs": [
    {
     "name": "stdout",
     "output_type": "stream",
     "text": [
      "[[5 6 7 8]\n",
      " [9 8 7 6]]\n"
     ]
    }
   ],
   "source": [
    "b = np.array ([[5,6,7,8],[9,8,7,6]])\n",
    "print(b)"
   ]
  },
  {
   "cell_type": "code",
   "execution_count": 12,
   "id": "68897ab6",
   "metadata": {},
   "outputs": [
    {
     "name": "stdout",
     "output_type": "stream",
     "text": [
      "[[[0 1 2 3]\n",
      "  [4 5 6 7]]\n",
      "\n",
      " [[8 9 8 7]\n",
      "  [6 5 4 3]]\n",
      "\n",
      " [[1 2 3 4]\n",
      "  [5 6 7 8]]]\n"
     ]
    }
   ],
   "source": [
    "c = np.array ([[[0,1,2,3],[4,5,6,7]],\n",
    "               [[8,9,8,7],[6,5,4,3]],\n",
    "               [[1,2,3,4],[5,6,7,8]]])\n",
    "print(c)"
   ]
  },
  {
   "cell_type": "code",
   "execution_count": 13,
   "id": "c9dccee8",
   "metadata": {},
   "outputs": [
    {
     "data": {
      "text/plain": [
       "1"
      ]
     },
     "execution_count": 13,
     "metadata": {},
     "output_type": "execute_result"
    }
   ],
   "source": [
    "a.ndim"
   ]
  },
  {
   "cell_type": "code",
   "execution_count": 14,
   "id": "fde04ff1",
   "metadata": {},
   "outputs": [
    {
     "data": {
      "text/plain": [
       "2"
      ]
     },
     "execution_count": 14,
     "metadata": {},
     "output_type": "execute_result"
    }
   ],
   "source": [
    "b.ndim"
   ]
  },
  {
   "cell_type": "code",
   "execution_count": 15,
   "id": "7eb2ccc5",
   "metadata": {},
   "outputs": [
    {
     "data": {
      "text/plain": [
       "(5,)"
      ]
     },
     "execution_count": 15,
     "metadata": {},
     "output_type": "execute_result"
    }
   ],
   "source": [
    "a.shape"
   ]
  },
  {
   "cell_type": "code",
   "execution_count": 16,
   "id": "2b94984d",
   "metadata": {},
   "outputs": [
    {
     "data": {
      "text/plain": [
       "(2, 4)"
      ]
     },
     "execution_count": 16,
     "metadata": {},
     "output_type": "execute_result"
    }
   ],
   "source": [
    "b.shape"
   ]
  },
  {
   "cell_type": "code",
   "execution_count": 17,
   "id": "c65f493f",
   "metadata": {},
   "outputs": [
    {
     "data": {
      "text/plain": [
       "(3, 2, 4)"
      ]
     },
     "execution_count": 17,
     "metadata": {},
     "output_type": "execute_result"
    }
   ],
   "source": [
    "c.shape"
   ]
  },
  {
   "cell_type": "code",
   "execution_count": 23,
   "id": "d53f36ff",
   "metadata": {},
   "outputs": [
    {
     "name": "stdout",
     "output_type": "stream",
     "text": [
      "[[ 1  2  3  4]\n",
      " [ 5  6  7  8]\n",
      " [ 9 10 11 12]]\n"
     ]
    }
   ],
   "source": [
    "d = np.array([[1,2,3,4],[5,6,7,8],[9,10,11,12]])\n",
    "print(d)"
   ]
  },
  {
   "cell_type": "code",
   "execution_count": 24,
   "id": "bcc0478e",
   "metadata": {},
   "outputs": [
    {
     "data": {
      "text/plain": [
       "4"
      ]
     },
     "execution_count": 24,
     "metadata": {},
     "output_type": "execute_result"
    }
   ],
   "source": [
    "d[0,3]"
   ]
  },
  {
   "cell_type": "code",
   "execution_count": 25,
   "id": "1a01a1bf",
   "metadata": {},
   "outputs": [
    {
     "data": {
      "text/plain": [
       "array([5, 6, 7, 8])"
      ]
     },
     "execution_count": 25,
     "metadata": {},
     "output_type": "execute_result"
    }
   ],
   "source": [
    "d[1,:]"
   ]
  },
  {
   "cell_type": "code",
   "execution_count": 28,
   "id": "0bda29e1",
   "metadata": {},
   "outputs": [
    {
     "data": {
      "text/plain": [
       "array([ 3,  7, 11])"
      ]
     },
     "execution_count": 28,
     "metadata": {},
     "output_type": "execute_result"
    }
   ],
   "source": [
    "d[:,2]"
   ]
  },
  {
   "cell_type": "code",
   "execution_count": 29,
   "id": "8773cde7",
   "metadata": {},
   "outputs": [
    {
     "data": {
      "text/plain": [
       "array([2, 3])"
      ]
     },
     "execution_count": 29,
     "metadata": {},
     "output_type": "execute_result"
    }
   ],
   "source": [
    "d[0,1:3]"
   ]
  },
  {
   "cell_type": "code",
   "execution_count": 30,
   "id": "5e4b8226",
   "metadata": {},
   "outputs": [
    {
     "name": "stdout",
     "output_type": "stream",
     "text": [
      "[[100   2   3   4]\n",
      " [  5   6   7   8]\n",
      " [  9  10  11  12]]\n"
     ]
    }
   ],
   "source": [
    "d[0,0] = 100\n",
    "print(d)"
   ]
  },
  {
   "cell_type": "code",
   "execution_count": 31,
   "id": "9e0f46fb",
   "metadata": {},
   "outputs": [
    {
     "data": {
      "text/plain": [
       "array([[1., 1., 1.],\n",
       "       [1., 1., 1.]])"
      ]
     },
     "execution_count": 31,
     "metadata": {},
     "output_type": "execute_result"
    }
   ],
   "source": [
    "np.ones((2,3))"
   ]
  },
  {
   "cell_type": "code",
   "execution_count": 32,
   "id": "597b3aba",
   "metadata": {},
   "outputs": [
    {
     "data": {
      "text/plain": [
       "array([[0., 0.],\n",
       "       [0., 0.],\n",
       "       [0., 0.]])"
      ]
     },
     "execution_count": 32,
     "metadata": {},
     "output_type": "execute_result"
    }
   ],
   "source": [
    "np.zeros((3,2))"
   ]
  },
  {
   "cell_type": "code",
   "execution_count": 33,
   "id": "f8e92f08",
   "metadata": {},
   "outputs": [
    {
     "data": {
      "text/plain": [
       "array([[1., 0., 0., 0.],\n",
       "       [0., 1., 0., 0.],\n",
       "       [0., 0., 1., 0.],\n",
       "       [0., 0., 0., 1.]])"
      ]
     },
     "execution_count": 33,
     "metadata": {},
     "output_type": "execute_result"
    }
   ],
   "source": [
    "np.identity(4)"
   ]
  },
  {
   "cell_type": "code",
   "execution_count": 36,
   "id": "7f1153e4",
   "metadata": {},
   "outputs": [
    {
     "data": {
      "text/plain": [
       "array([[[1., 1., 1., 1.],\n",
       "        [1., 1., 1., 1.],\n",
       "        [1., 1., 1., 1.]],\n",
       "\n",
       "       [[1., 1., 1., 1.],\n",
       "        [1., 1., 1., 1.],\n",
       "        [1., 1., 1., 1.]]])"
      ]
     },
     "execution_count": 36,
     "metadata": {},
     "output_type": "execute_result"
    }
   ],
   "source": [
    "np.ones((2,3,4))"
   ]
  },
  {
   "cell_type": "code",
   "execution_count": 37,
   "id": "e6f511e8",
   "metadata": {},
   "outputs": [
    {
     "data": {
      "text/plain": [
       "array([[9, 9],\n",
       "       [9, 9],\n",
       "       [9, 9]])"
      ]
     },
     "execution_count": 37,
     "metadata": {},
     "output_type": "execute_result"
    }
   ],
   "source": [
    "np.full((3,2),9)"
   ]
  },
  {
   "cell_type": "code",
   "execution_count": 38,
   "id": "94782810",
   "metadata": {},
   "outputs": [
    {
     "data": {
      "text/plain": [
       "array([[0.62396838, 0.65363654, 0.62935037],\n",
       "       [0.80568349, 0.8267047 , 0.9099313 ],\n",
       "       [0.55129697, 0.16588189, 0.69359677],\n",
       "       [0.24860194, 0.62189001, 0.94213877]])"
      ]
     },
     "execution_count": 38,
     "metadata": {},
     "output_type": "execute_result"
    }
   ],
   "source": [
    "np.random.rand(4,3)"
   ]
  },
  {
   "cell_type": "code",
   "execution_count": 108,
   "id": "8760ce24",
   "metadata": {},
   "outputs": [
    {
     "data": {
      "text/plain": [
       "array([[7, 5, 2, 8],\n",
       "       [4, 4, 5, 9],\n",
       "       [3, 3, 7, 4]])"
      ]
     },
     "execution_count": 108,
     "metadata": {},
     "output_type": "execute_result"
    }
   ],
   "source": [
    "np.random.randint(1,10,size=(3,4))"
   ]
  },
  {
   "cell_type": "code",
   "execution_count": 44,
   "id": "d2074413",
   "metadata": {},
   "outputs": [
    {
     "name": "stdout",
     "output_type": "stream",
     "text": [
      "[[0. 0. 0. 0. 0. 0. 0. 0. 0. 0.]\n",
      " [0. 0. 0. 0. 0. 0. 0. 0. 0. 0.]\n",
      " [0. 0. 0. 0. 0. 0. 0. 0. 0. 0.]\n",
      " [0. 0. 0. 0. 0. 0. 0. 0. 0. 0.]\n",
      " [0. 0. 0. 0. 0. 0. 0. 0. 0. 0.]\n",
      " [0. 0. 0. 0. 0. 0. 0. 0. 0. 0.]\n",
      " [0. 0. 0. 0. 0. 0. 0. 0. 0. 0.]\n",
      " [0. 0. 0. 0. 0. 0. 0. 0. 0. 0.]\n",
      " [0. 0. 0. 0. 0. 0. 0. 0. 0. 0.]\n",
      " [0. 0. 0. 0. 0. 0. 0. 0. 0. 0.]]\n"
     ]
    }
   ],
   "source": [
    "a=np.zeros((10,10))\n",
    "print(a)"
   ]
  },
  {
   "cell_type": "code",
   "execution_count": 45,
   "id": "fcd44bd6",
   "metadata": {},
   "outputs": [
    {
     "name": "stdout",
     "output_type": "stream",
     "text": [
      "[[1. 0. 0. 0. 0. 0. 0. 0. 0. 0.]\n",
      " [0. 1. 0. 0. 0. 0. 0. 0. 0. 0.]\n",
      " [0. 0. 1. 0. 0. 0. 0. 0. 0. 0.]\n",
      " [0. 0. 0. 1. 0. 0. 0. 0. 0. 0.]\n",
      " [0. 0. 0. 0. 1. 0. 0. 0. 0. 0.]\n",
      " [0. 0. 0. 0. 0. 1. 0. 0. 0. 0.]\n",
      " [0. 0. 0. 0. 0. 0. 1. 0. 0. 0.]\n",
      " [0. 0. 0. 0. 0. 0. 0. 1. 0. 0.]\n",
      " [0. 0. 0. 0. 0. 0. 0. 0. 1. 0.]\n",
      " [0. 0. 0. 0. 0. 0. 0. 0. 0. 1.]]\n"
     ]
    }
   ],
   "source": [
    "b=np.identity(10)\n",
    "print(b)"
   ]
  },
  {
   "cell_type": "code",
   "execution_count": 46,
   "id": "021e10eb",
   "metadata": {},
   "outputs": [
    {
     "name": "stdout",
     "output_type": "stream",
     "text": [
      "[[9. 0. 0. 0. 0. 0. 0. 0. 0. 0.]\n",
      " [0. 9. 0. 0. 0. 0. 0. 0. 0. 0.]\n",
      " [0. 0. 9. 0. 0. 0. 0. 0. 0. 0.]\n",
      " [0. 0. 0. 9. 0. 0. 0. 0. 0. 0.]\n",
      " [0. 0. 0. 0. 9. 0. 0. 0. 0. 0.]\n",
      " [0. 0. 0. 0. 0. 9. 0. 0. 0. 0.]\n",
      " [0. 0. 0. 0. 0. 0. 9. 0. 0. 0.]\n",
      " [0. 0. 0. 0. 0. 0. 0. 9. 0. 0.]\n",
      " [0. 0. 0. 0. 0. 0. 0. 0. 9. 0.]\n",
      " [0. 0. 0. 0. 0. 0. 0. 0. 0. 9.]]\n"
     ]
    }
   ],
   "source": [
    "c=9*b\n",
    "print(c)"
   ]
  },
  {
   "cell_type": "code",
   "execution_count": 47,
   "id": "254ef956",
   "metadata": {},
   "outputs": [
    {
     "name": "stdout",
     "output_type": "stream",
     "text": [
      "[[9. 1. 1. 1. 1. 1. 1. 1.]\n",
      " [1. 9. 1. 1. 1. 1. 1. 1.]\n",
      " [1. 1. 9. 1. 1. 1. 1. 1.]\n",
      " [1. 1. 1. 9. 1. 1. 1. 1.]\n",
      " [1. 1. 1. 1. 9. 1. 1. 1.]\n",
      " [1. 1. 1. 1. 1. 9. 1. 1.]\n",
      " [1. 1. 1. 1. 1. 1. 9. 1.]\n",
      " [1. 1. 1. 1. 1. 1. 1. 9.]]\n"
     ]
    }
   ],
   "source": [
    "d=np.ones((8,8))\n",
    "e=np.identity(8)*8\n",
    "f=d+e\n",
    "print(f)"
   ]
  },
  {
   "cell_type": "code",
   "execution_count": 48,
   "id": "a002d306",
   "metadata": {},
   "outputs": [
    {
     "name": "stdout",
     "output_type": "stream",
     "text": [
      "[[9. 0. 0. 0. 0. 0. 0. 0. 0. 0.]\n",
      " [0. 9. 1. 1. 1. 1. 1. 1. 1. 0.]\n",
      " [0. 1. 9. 1. 1. 1. 1. 1. 1. 0.]\n",
      " [0. 1. 1. 9. 1. 1. 1. 1. 1. 0.]\n",
      " [0. 1. 1. 1. 9. 1. 1. 1. 1. 0.]\n",
      " [0. 1. 1. 1. 1. 9. 1. 1. 1. 0.]\n",
      " [0. 1. 1. 1. 1. 1. 9. 1. 1. 0.]\n",
      " [0. 1. 1. 1. 1. 1. 1. 9. 1. 0.]\n",
      " [0. 1. 1. 1. 1. 1. 1. 1. 9. 0.]\n",
      " [0. 0. 0. 0. 0. 0. 0. 0. 0. 9.]]\n"
     ]
    }
   ],
   "source": [
    "c[1:-1,1:-1]=f\n",
    "print(c)"
   ]
  },
  {
   "cell_type": "code",
   "execution_count": 49,
   "id": "ba429244",
   "metadata": {},
   "outputs": [
    {
     "name": "stdout",
     "output_type": "stream",
     "text": [
      "[[9. 0. 0. 0. 0. 0. 0. 0. 0. 0.]\n",
      " [0. 9. 1. 1. 1. 1. 1. 1. 1. 0.]\n",
      " [0. 1. 9. 0. 0. 0. 0. 0. 1. 0.]\n",
      " [0. 1. 0. 9. 0. 0. 0. 0. 1. 0.]\n",
      " [0. 1. 0. 0. 9. 0. 0. 0. 1. 0.]\n",
      " [0. 1. 0. 0. 0. 9. 0. 0. 1. 0.]\n",
      " [0. 1. 0. 0. 0. 0. 9. 0. 1. 0.]\n",
      " [0. 1. 0. 0. 0. 0. 0. 9. 1. 0.]\n",
      " [0. 1. 1. 1. 1. 1. 1. 1. 9. 0.]\n",
      " [0. 0. 0. 0. 0. 0. 0. 0. 0. 9.]]\n"
     ]
    }
   ],
   "source": [
    "g=np.identity(6)*9\n",
    "c[2:-2,2:-2]=g\n",
    "print(c)"
   ]
  },
  {
   "cell_type": "code",
   "execution_count": 51,
   "id": "b71a6920",
   "metadata": {},
   "outputs": [
    {
     "name": "stdout",
     "output_type": "stream",
     "text": [
      "[[9. 2. 2. 2.]\n",
      " [2. 9. 2. 2.]\n",
      " [2. 2. 9. 2.]\n",
      " [2. 2. 2. 9.]]\n"
     ]
    }
   ],
   "source": [
    "h=np.ones((4,4))*2\n",
    "i=np.identity(4)*7\n",
    "j=h+i\n",
    "print(j)"
   ]
  },
  {
   "cell_type": "code",
   "execution_count": 52,
   "id": "1c249d9c",
   "metadata": {},
   "outputs": [
    {
     "name": "stdout",
     "output_type": "stream",
     "text": [
      "[[9. 0. 0. 0. 0. 0. 0. 0. 0. 0.]\n",
      " [0. 9. 1. 1. 1. 1. 1. 1. 1. 0.]\n",
      " [0. 1. 9. 0. 0. 0. 0. 0. 1. 0.]\n",
      " [0. 1. 0. 9. 2. 2. 2. 0. 1. 0.]\n",
      " [0. 1. 0. 2. 9. 2. 2. 0. 1. 0.]\n",
      " [0. 1. 0. 2. 2. 9. 2. 0. 1. 0.]\n",
      " [0. 1. 0. 2. 2. 2. 9. 0. 1. 0.]\n",
      " [0. 1. 0. 0. 0. 0. 0. 9. 1. 0.]\n",
      " [0. 1. 1. 1. 1. 1. 1. 1. 9. 0.]\n",
      " [0. 0. 0. 0. 0. 0. 0. 0. 0. 9.]]\n"
     ]
    }
   ],
   "source": [
    "c[3:-3,3:-3]=j\n",
    "print(c)"
   ]
  },
  {
   "cell_type": "code",
   "execution_count": 53,
   "id": "921cbc76",
   "metadata": {},
   "outputs": [
    {
     "name": "stdout",
     "output_type": "stream",
     "text": [
      "[[9. 0. 0. 0. 0. 0. 0. 0. 0. 0.]\n",
      " [0. 9. 1. 1. 1. 1. 1. 1. 1. 0.]\n",
      " [0. 1. 9. 0. 0. 0. 0. 0. 1. 0.]\n",
      " [0. 1. 0. 9. 2. 2. 2. 0. 1. 0.]\n",
      " [0. 1. 0. 2. 9. 0. 2. 0. 1. 9.]\n",
      " [0. 1. 0. 2. 2. 9. 2. 0. 1. 0.]\n",
      " [0. 1. 0. 2. 2. 2. 9. 0. 1. 0.]\n",
      " [0. 1. 0. 0. 0. 0. 0. 9. 1. 0.]\n",
      " [0. 1. 1. 1. 1. 1. 1. 1. 9. 0.]\n",
      " [0. 0. 0. 0. 0. 0. 0. 0. 0. 9.]]\n"
     ]
    }
   ],
   "source": [
    "k=np.identity(2)*9\n",
    "c[4:-4,:4:-4]=k\n",
    "print(c)"
   ]
  },
  {
   "cell_type": "code",
   "execution_count": 54,
   "id": "c5de4aab",
   "metadata": {},
   "outputs": [
    {
     "name": "stdout",
     "output_type": "stream",
     "text": [
      "[1 2 3 4 5]\n"
     ]
    }
   ],
   "source": [
    "a=np.array([1,2,3,4,5])\n",
    "print(a)"
   ]
  },
  {
   "cell_type": "code",
   "execution_count": 55,
   "id": "8c01c2bc",
   "metadata": {},
   "outputs": [
    {
     "name": "stdout",
     "output_type": "stream",
     "text": [
      "[1 2 3 4 5]\n"
     ]
    }
   ],
   "source": [
    "b=a\n",
    "print(b)"
   ]
  },
  {
   "cell_type": "code",
   "execution_count": 56,
   "id": "4ee1af66",
   "metadata": {},
   "outputs": [
    {
     "name": "stdout",
     "output_type": "stream",
     "text": [
      "[10  2  3  4  5]\n"
     ]
    }
   ],
   "source": [
    "b[0]=10\n",
    "print(b)"
   ]
  },
  {
   "cell_type": "code",
   "execution_count": 57,
   "id": "75431957",
   "metadata": {},
   "outputs": [
    {
     "name": "stdout",
     "output_type": "stream",
     "text": [
      "[10  2  3  4  5]\n"
     ]
    }
   ],
   "source": [
    "print(a)"
   ]
  },
  {
   "cell_type": "code",
   "execution_count": 58,
   "id": "4071b8d0",
   "metadata": {},
   "outputs": [
    {
     "name": "stdout",
     "output_type": "stream",
     "text": [
      "[1 2 3 4 5]\n"
     ]
    }
   ],
   "source": [
    "c=np.array([1,2,3,4,5])\n",
    "print(c)"
   ]
  },
  {
   "cell_type": "code",
   "execution_count": 59,
   "id": "6be805a5",
   "metadata": {},
   "outputs": [
    {
     "name": "stdout",
     "output_type": "stream",
     "text": [
      "[1 2 3 4 5]\n"
     ]
    }
   ],
   "source": [
    "d=c.copy()\n",
    "print(d)"
   ]
  },
  {
   "cell_type": "code",
   "execution_count": 60,
   "id": "7bd77198",
   "metadata": {},
   "outputs": [
    {
     "name": "stdout",
     "output_type": "stream",
     "text": [
      "[10  2  3  4  5]\n"
     ]
    }
   ],
   "source": [
    "d[0]=10\n",
    "print(d)"
   ]
  },
  {
   "cell_type": "code",
   "execution_count": 61,
   "id": "ffa3b637",
   "metadata": {},
   "outputs": [
    {
     "name": "stdout",
     "output_type": "stream",
     "text": [
      "[1 2 3 4 5]\n"
     ]
    }
   ],
   "source": [
    "print(c)"
   ]
  },
  {
   "cell_type": "code",
   "execution_count": 62,
   "id": "6ea10fe1",
   "metadata": {},
   "outputs": [
    {
     "data": {
      "text/plain": [
       "array([12,  4,  5,  6,  7])"
      ]
     },
     "execution_count": 62,
     "metadata": {},
     "output_type": "execute_result"
    }
   ],
   "source": [
    "a+2"
   ]
  },
  {
   "cell_type": "code",
   "execution_count": 63,
   "id": "39ee0002",
   "metadata": {},
   "outputs": [
    {
     "data": {
      "text/plain": [
       "array([8, 0, 1, 2, 3])"
      ]
     },
     "execution_count": 63,
     "metadata": {},
     "output_type": "execute_result"
    }
   ],
   "source": [
    "a-2"
   ]
  },
  {
   "cell_type": "code",
   "execution_count": 64,
   "id": "d545c48a",
   "metadata": {},
   "outputs": [
    {
     "data": {
      "text/plain": [
       "array([20,  4,  6,  8, 10])"
      ]
     },
     "execution_count": 64,
     "metadata": {},
     "output_type": "execute_result"
    }
   ],
   "source": [
    "a*2"
   ]
  },
  {
   "cell_type": "code",
   "execution_count": 65,
   "id": "31db08b1",
   "metadata": {},
   "outputs": [
    {
     "data": {
      "text/plain": [
       "array([100,   4,   9,  16,  25], dtype=int32)"
      ]
     },
     "execution_count": 65,
     "metadata": {},
     "output_type": "execute_result"
    }
   ],
   "source": [
    "a**2"
   ]
  },
  {
   "cell_type": "code",
   "execution_count": 66,
   "id": "b659bc5e",
   "metadata": {},
   "outputs": [
    {
     "name": "stdout",
     "output_type": "stream",
     "text": [
      "[ 6  7  8  9 10]\n"
     ]
    }
   ],
   "source": [
    "b=np.array([6,7,8,9,10])\n",
    "print(b)"
   ]
  },
  {
   "cell_type": "code",
   "execution_count": 67,
   "id": "8fc872a3",
   "metadata": {},
   "outputs": [
    {
     "data": {
      "text/plain": [
       "array([16,  9, 11, 13, 15])"
      ]
     },
     "execution_count": 67,
     "metadata": {},
     "output_type": "execute_result"
    }
   ],
   "source": [
    "a+b"
   ]
  },
  {
   "cell_type": "code",
   "execution_count": 68,
   "id": "016707f6",
   "metadata": {},
   "outputs": [
    {
     "data": {
      "text/plain": [
       "array([-0.83907153, -0.41614684, -0.9899925 , -0.65364362,  0.28366219])"
      ]
     },
     "execution_count": 68,
     "metadata": {},
     "output_type": "execute_result"
    }
   ],
   "source": [
    "np.cos(a)"
   ]
  },
  {
   "cell_type": "code",
   "execution_count": 71,
   "id": "4a4cc9ad",
   "metadata": {},
   "outputs": [
    {
     "data": {
      "text/plain": [
       "array([1.10132329e+04, 3.62686041e+00, 1.00178749e+01, 2.72899172e+01,\n",
       "       7.42032106e+01])"
      ]
     },
     "execution_count": 71,
     "metadata": {},
     "output_type": "execute_result"
    }
   ],
   "source": [
    "np.sinh(a)"
   ]
  },
  {
   "cell_type": "code",
   "execution_count": 70,
   "id": "4b9bb6ad",
   "metadata": {},
   "outputs": [
    {
     "data": {
      "text/plain": [
       "array([2.44948974, 2.64575131, 2.82842712, 3.        , 3.16227766])"
      ]
     },
     "execution_count": 70,
     "metadata": {},
     "output_type": "execute_result"
    }
   ],
   "source": [
    "np.sqrt(b)"
   ]
  },
  {
   "cell_type": "code",
   "execution_count": 72,
   "id": "d7c630c5",
   "metadata": {},
   "outputs": [
    {
     "data": {
      "text/plain": [
       "array([-0.29100619,  0.87144798, -6.79971146, -0.45231566,  0.64836083])"
      ]
     },
     "execution_count": 72,
     "metadata": {},
     "output_type": "execute_result"
    }
   ],
   "source": [
    "np.tan(b)"
   ]
  },
  {
   "cell_type": "code",
   "execution_count": 73,
   "id": "5cf6fde7",
   "metadata": {},
   "outputs": [
    {
     "name": "stdout",
     "output_type": "stream",
     "text": [
      "[[1 2 3 4]\n",
      " [5 6 7 8]]\n"
     ]
    }
   ],
   "source": [
    "a= np.array([[1,2,3,4], [5,6,7,8]])\n",
    "print(a)"
   ]
  },
  {
   "cell_type": "code",
   "execution_count": 81,
   "id": "a0999019",
   "metadata": {},
   "outputs": [
    {
     "name": "stdout",
     "output_type": "stream",
     "text": [
      "[[ 9 10 11 12]\n",
      " [13 14 15 16]]\n"
     ]
    }
   ],
   "source": [
    "b= np.array([[9,10,11,12],[13,14,15,16]])\n",
    "print(b)"
   ]
  },
  {
   "cell_type": "code",
   "execution_count": 75,
   "id": "bd8c255b",
   "metadata": {},
   "outputs": [
    {
     "name": "stdout",
     "output_type": "stream",
     "text": [
      "[[  9  20  33  48]\n",
      " [ 65  84 105 128]]\n"
     ]
    }
   ],
   "source": [
    "c=a*b\n",
    "print(c)"
   ]
  },
  {
   "cell_type": "code",
   "execution_count": 118,
   "id": "647c0f5e",
   "metadata": {},
   "outputs": [],
   "source": [
    "d = np.matmul(b,a)"
   ]
  },
  {
   "cell_type": "code",
   "execution_count": 86,
   "id": "9da0241a",
   "metadata": {},
   "outputs": [
    {
     "name": "stdout",
     "output_type": "stream",
     "text": [
      "[[ 9 10]\n",
      " [11 12]\n",
      " [13 14]\n",
      " [15 16]]\n"
     ]
    }
   ],
   "source": [
    "e=np.array([[9,10],[11,12],[13,14],[15,16]])\n",
    "print(e)"
   ]
  },
  {
   "cell_type": "code",
   "execution_count": 88,
   "id": "4b1ec362",
   "metadata": {},
   "outputs": [
    {
     "name": "stdout",
     "output_type": "stream",
     "text": [
      "[[130 140]\n",
      " [322 348]\n",
      " [514 556]]\n"
     ]
    }
   ],
   "source": [
    "f=np.matmul(a,e)\n",
    "print(f)"
   ]
  },
  {
   "cell_type": "code",
   "execution_count": 82,
   "id": "c7f19555",
   "metadata": {},
   "outputs": [
    {
     "name": "stdout",
     "output_type": "stream",
     "text": [
      "[[ 1  2  3  4]\n",
      " [ 5  6  7  8]\n",
      " [ 9 10 11 12]]\n"
     ]
    }
   ],
   "source": [
    "a = np.array([[1,2,3,4],\n",
    "             [5,6,7,8],\n",
    "             [9,10,11,12]])\n",
    "print(a)"
   ]
  },
  {
   "cell_type": "code",
   "execution_count": 83,
   "id": "3f36eda1",
   "metadata": {},
   "outputs": [
    {
     "name": "stdout",
     "output_type": "stream",
     "text": [
      "1\n"
     ]
    }
   ],
   "source": [
    "b=np.min(a)\n",
    "print(b)"
   ]
  },
  {
   "cell_type": "code",
   "execution_count": 84,
   "id": "e962c6be",
   "metadata": {},
   "outputs": [
    {
     "name": "stdout",
     "output_type": "stream",
     "text": [
      "[10  2  3  4  5]\n"
     ]
    }
   ],
   "source": [
    "c=np.min(a,axis=1)\n",
    "print(d)"
   ]
  },
  {
   "cell_type": "code",
   "execution_count": 85,
   "id": "5e9445f9",
   "metadata": {},
   "outputs": [
    {
     "name": "stdout",
     "output_type": "stream",
     "text": [
      "[[ 1  2  3  4]\n",
      " [ 5  6  7  8]\n",
      " [ 9 10 11 12]]\n"
     ]
    }
   ],
   "source": [
    "e=np.max(a)\n",
    "print(a)"
   ]
  },
  {
   "cell_type": "code",
   "execution_count": 89,
   "id": "7433be3b",
   "metadata": {},
   "outputs": [
    {
     "name": "stdout",
     "output_type": "stream",
     "text": [
      "[ 9 10 11 12]\n"
     ]
    }
   ],
   "source": [
    "f=np.max(a,axis=0)\n",
    "print(f)"
   ]
  },
  {
   "cell_type": "code",
   "execution_count": 95,
   "id": "91e3864d",
   "metadata": {},
   "outputs": [
    {
     "name": "stdout",
     "output_type": "stream",
     "text": [
      "[ 4  8 12]\n"
     ]
    }
   ],
   "source": [
    "b=np.max(a,axis=1)\n",
    "print(b)"
   ]
  },
  {
   "cell_type": "code",
   "execution_count": 90,
   "id": "f51cc23e",
   "metadata": {},
   "outputs": [
    {
     "name": "stdout",
     "output_type": "stream",
     "text": [
      "[[2. 2. 2. 2.]\n",
      " [2. 2. 2. 2.]\n",
      " [2. 2. 2. 2.]\n",
      " [2. 2. 2. 2.]]\n"
     ]
    }
   ],
   "source": [
    "g=np.sum(a)\n",
    "print(h)"
   ]
  },
  {
   "cell_type": "code",
   "execution_count": 91,
   "id": "463ffc65",
   "metadata": {},
   "outputs": [
    {
     "name": "stdout",
     "output_type": "stream",
     "text": [
      "[15 18 21 24]\n"
     ]
    }
   ],
   "source": [
    "h=np.sum(a,axis=0)\n",
    "print(h)"
   ]
  },
  {
   "cell_type": "code",
   "execution_count": 119,
   "id": "17d028b9",
   "metadata": {},
   "outputs": [
    {
     "name": "stdout",
     "output_type": "stream",
     "text": [
      "[10 26 42]\n"
     ]
    }
   ],
   "source": [
    "i=np.sum(a,axis=1)\n",
    "print(i)"
   ]
  },
  {
   "cell_type": "code",
   "execution_count": 96,
   "id": "86412adf",
   "metadata": {},
   "outputs": [],
   "source": [
    "import pandas as pd"
   ]
  },
  {
   "cell_type": "code",
   "execution_count": 101,
   "id": "c10dc122",
   "metadata": {},
   "outputs": [
    {
     "name": "stdout",
     "output_type": "stream",
     "text": [
      "    No.              Nama Tanggal Lahir Jenis Kelamin Pekerjaan   Gaji  \\\n",
      "0     1        Putu Diana    1995-01-14     Perempuan    dokter   5000   \n",
      "1     2         Made Andi    1994-02-15     Laki-laki   perawat   4000   \n",
      "2     3      Komang Lukis    1993-03-16     Laki-laki     bidan   4000   \n",
      "3     4    Ketut Koncreng    1992-04-17     Perempuan     buruh   3000   \n",
      "4     5       Wayan Bagus    1991-05-18     Laki-laki    dagang  10000   \n",
      "5     6       Kadek Bocok    1990-03-19     Laki-laki     supir   6000   \n",
      "6     7      Nyoman Jegeg    1989-06-20     Perempuan     artis   3000   \n",
      "7     8        Ketut Lama    1988-07-21     Laki-laki     supir   4000   \n",
      "8     9           Luh Ani    1987-08-22     Perempuan    dagang   5000   \n",
      "9    10       Made Sengap    1986-09-23     Laki-laki     supir   3500   \n",
      "10   11        Made Santi    1995-01-01     Perempuan    dokter   6000   \n",
      "11   12    Luh Madeinbali    1994-01-02          None   perawat   7000   \n",
      "12   13  Ketut Kusumadewi    1990-01-03     Perempuan     bidan   8000   \n",
      "13   14       Komang Dewi    1993-02-05          None    dokter  10000   \n",
      "14   15    Kadek Dewiyani    1991-06-15     Perempuan     buruh  11000   \n",
      "15   16     Luh Santidewi    1991-07-15          None     artis   7000   \n",
      "16   17       Putu Medewi    1992-06-16     Perempuan     buruh   3500   \n",
      "17   18     Nyoman Madewi    1994-07-13     Perempuan    dagang   1500   \n",
      "18   19       Kadek Pekak    1992-05-14     Laki-laki     buruh   2500   \n",
      "19   20       Made Sengap    1991-06-15     Laki-laki     supir   4500   \n",
      "\n",
      "    Tabungan Menikah  Jumlah Anak  \n",
      "0     100000   tidak            0  \n",
      "1     150000      ya            4  \n",
      "2     200000      ya            3  \n",
      "3        500      ya            2  \n",
      "4     500000   tidak            0  \n",
      "5       1000   tidak            0  \n",
      "6      50000   tidak            0  \n",
      "7       2000      ya            1  \n",
      "8      50000      ya            2  \n",
      "9     700000      ya            2  \n",
      "10     20000   tidak            0  \n",
      "11       500      ya            4  \n",
      "12     10000   tidak            0  \n",
      "13     25000      ya            2  \n",
      "14     35000   tidak            0  \n",
      "15      7000      ya            3  \n",
      "16      5000   tidak            0  \n",
      "17     75000      ya            6  \n",
      "18      9000   tidak            0  \n",
      "19     15000      ya            5  \n"
     ]
    }
   ],
   "source": [
    "data_csv=pd.read_csv('data_palsu.csv')\n",
    "print(data_csv)"
   ]
  },
  {
   "cell_type": "code",
   "execution_count": 103,
   "id": "762a8c77",
   "metadata": {},
   "outputs": [
    {
     "name": "stdout",
     "output_type": "stream",
     "text": [
      "    No.              Nama Tanggal Lahir Jenis Kelamin Pekerjaan   Gaji  \\\n",
      "0     1        Putu Diana    1995-01-14     Perempuan    dokter   5000   \n",
      "1     2         Made Andi    1994-02-15     Laki-laki   perawat   4000   \n",
      "2     3      Komang Lukis    1993-03-16     Laki-laki     bidan   4000   \n",
      "3     4    Ketut Koncreng    1992-04-17     Perempuan     buruh   3000   \n",
      "4     5       Wayan Bagus    1991-05-18     Laki-laki    dagang  10000   \n",
      "5     6       Kadek Bocok    1990-03-19     Laki-laki     supir   6000   \n",
      "6     7      Nyoman Jegeg    1989-06-20     Perempuan     artis   3000   \n",
      "7     8        Ketut Lama    1988-07-21     Laki-laki     supir   4000   \n",
      "8     9           Luh Ani    1987-08-22     Perempuan    dagang   5000   \n",
      "9    10       Made Sengap    1986-09-23     Laki-laki     supir   3500   \n",
      "10   11        Made Santi    1995-01-01     Perempuan    dokter   6000   \n",
      "11   12    Luh Madeinbali    1994-01-02          None   perawat   7000   \n",
      "12   13  Ketut Kusumadewi    1990-01-03     Perempuan     bidan   8000   \n",
      "13   14       Komang Dewi    1993-02-05          None    dokter  10000   \n",
      "14   15    Kadek Dewiyani    1991-06-15     Perempuan     buruh  11000   \n",
      "15   16     Luh Santidewi    1991-07-15          None     artis   7000   \n",
      "16   17       Putu Medewi    1992-06-16     Perempuan     buruh   3500   \n",
      "17   18     Nyoman Madewi    1994-07-13     Perempuan    dagang   1500   \n",
      "18   19       Kadek Pekak    1992-05-14     Laki-laki     buruh   2500   \n",
      "19   20       Made Sengap    1991-06-15     Laki-laki     supir   4500   \n",
      "\n",
      "    Tabungan Menikah  Jumlah Anak  \n",
      "0     100000   tidak            0  \n",
      "1     150000      ya            4  \n",
      "2     200000      ya            3  \n",
      "3        500      ya            2  \n",
      "4     500000   tidak            0  \n",
      "5       1000   tidak            0  \n",
      "6      50000   tidak            0  \n",
      "7       2000      ya            1  \n",
      "8      50000      ya            2  \n",
      "9     700000      ya            2  \n",
      "10     20000   tidak            0  \n",
      "11       500      ya            4  \n",
      "12     10000   tidak            0  \n",
      "13     25000      ya            2  \n",
      "14     35000   tidak            0  \n",
      "15      7000      ya            3  \n",
      "16      5000   tidak            0  \n",
      "17     75000      ya            6  \n",
      "18      9000   tidak            0  \n",
      "19     15000      ya            5  \n"
     ]
    }
   ],
   "source": [
    "data_xlsx = pd.read_excel('data_palsu.xlsx')\n",
    "print(data_xlsx)"
   ]
  },
  {
   "cell_type": "code",
   "execution_count": 120,
   "id": "3b02efea",
   "metadata": {},
   "outputs": [
    {
     "name": "stdout",
     "output_type": "stream",
     "text": [
      "    No.              Nama Tanggal Lahir Jenis Kelamin Pekerjaan   Gaji  \\\n",
      "0     1        Putu Diana    1995-01-14     Perempuan    dokter   5000   \n",
      "1     2         Made Andi    1994-02-15     Laki-laki   perawat   4000   \n",
      "2     3      Komang Lukis    1993-03-16     Laki-laki     bidan   4000   \n",
      "3     4    Ketut Koncreng    1992-04-17     Perempuan     buruh   3000   \n",
      "4     5       Wayan Bagus    1991-05-18     Laki-laki    dagang  10000   \n",
      "5     6       Kadek Bocok    1990-03-19     Laki-laki     supir   6000   \n",
      "6     7      Nyoman Jegeg    1989-06-20     Perempuan     artis   3000   \n",
      "7     8        Ketut Lama    1988-07-21     Laki-laki     supir   4000   \n",
      "8     9           Luh Ani    1987-08-22     Perempuan    dagang   5000   \n",
      "9    10       Made Sengap    1986-09-23     Laki-laki     supir   3500   \n",
      "10   11        Made Santi    1995-01-01     Perempuan    dokter   6000   \n",
      "11   12    Luh Madeinbali    1994-01-02          None   perawat   7000   \n",
      "12   13  Ketut Kusumadewi    1990-01-03     Perempuan     bidan   8000   \n",
      "13   14       Komang Dewi    1993-02-05          None    dokter  10000   \n",
      "14   15    Kadek Dewiyani    1991-06-15     Perempuan     buruh  11000   \n",
      "15   16     Luh Santidewi    1991-07-15          None     artis   7000   \n",
      "16   17       Putu Medewi    1992-06-16     Perempuan     buruh   3500   \n",
      "17   18     Nyoman Madewi    1994-07-13     Perempuan    dagang   1500   \n",
      "18   19       Kadek Pekak    1992-05-14     Laki-laki     buruh   2500   \n",
      "19   20       Made Sengap    1991-06-15     Laki-laki     supir   4500   \n",
      "\n",
      "    Tabungan Menikah  Jumlah Anak  \n",
      "0     100000   tidak            0  \n",
      "1     150000      ya            4  \n",
      "2     200000      ya            3  \n",
      "3        500      ya            2  \n",
      "4     500000   tidak            0  \n",
      "5       1000   tidak            0  \n",
      "6      50000   tidak            0  \n",
      "7       2000      ya            1  \n",
      "8      50000      ya            2  \n",
      "9     700000      ya            2  \n",
      "10     20000   tidak            0  \n",
      "11       500      ya            4  \n",
      "12     10000   tidak            0  \n",
      "13     25000      ya            2  \n",
      "14     35000   tidak            0  \n",
      "15      7000      ya            3  \n",
      "16      5000   tidak            0  \n",
      "17     75000      ya            6  \n",
      "18      9000   tidak            0  \n",
      "19     15000      ya            5  \n"
     ]
    }
   ],
   "source": [
    "data_txt = pd.read_csv('data_palsu.txt')\n",
    "print(data_txt)"
   ]
  },
  {
   "cell_type": "code",
   "execution_count": 122,
   "id": "e29a7824",
   "metadata": {},
   "outputs": [
    {
     "name": "stdout",
     "output_type": "stream",
     "text": [
      "    No.              Nama Tanggal Lahir Jenis Kelamin Pekerjaan   Gaji  \\\n",
      "0     1        Putu Diana    1995-01-14     Perempuan    dokter   5000   \n",
      "1     2         Made Andi    1994-02-15     Laki-laki   perawat   4000   \n",
      "2     3      Komang Lukis    1993-03-16     Laki-laki     bidan   4000   \n",
      "3     4    Ketut Koncreng    1992-04-17     Perempuan     buruh   3000   \n",
      "4     5       Wayan Bagus    1991-05-18     Laki-laki    dagang  10000   \n",
      "5     6       Kadek Bocok    1990-03-19     Laki-laki     supir   6000   \n",
      "6     7      Nyoman Jegeg    1989-06-20     Perempuan     artis   3000   \n",
      "7     8        Ketut Lama    1988-07-21     Laki-laki     supir   4000   \n",
      "8     9           Luh Ani    1987-08-22     Perempuan    dagang   5000   \n",
      "9    10       Made Sengap    1986-09-23     Laki-laki     supir   3500   \n",
      "10   11        Made Santi    1995-01-01     Perempuan    dokter   6000   \n",
      "11   12    Luh Madeinbali    1994-01-02          None   perawat   7000   \n",
      "12   13  Ketut Kusumadewi    1990-01-03     Perempuan     bidan   8000   \n",
      "13   14       Komang Dewi    1993-02-05          None    dokter  10000   \n",
      "14   15    Kadek Dewiyani    1991-06-15     Perempuan     buruh  11000   \n",
      "15   16     Luh Santidewi    1991-07-15          None     artis   7000   \n",
      "16   17       Putu Medewi    1992-06-16     Perempuan     buruh   3500   \n",
      "17   18     Nyoman Madewi    1994-07-13     Perempuan    dagang   1500   \n",
      "18   19       Kadek Pekak    1992-05-14     Laki-laki     buruh   2500   \n",
      "19   20       Made Sengap    1991-06-15     Laki-laki     supir   4500   \n",
      "\n",
      "    Tabungan Menikah  Jumlah Anak  \n",
      "0     100000   tidak            0  \n",
      "1     150000      ya            4  \n",
      "2     200000      ya            3  \n",
      "3        500      ya            2  \n",
      "4     500000   tidak            0  \n",
      "5       1000   tidak            0  \n",
      "6      50000   tidak            0  \n",
      "7       2000      ya            1  \n",
      "8      50000      ya            2  \n",
      "9     700000      ya            2  \n",
      "10     20000   tidak            0  \n",
      "11       500      ya            4  \n",
      "12     10000   tidak            0  \n",
      "13     25000      ya            2  \n",
      "14     35000   tidak            0  \n",
      "15      7000      ya            3  \n",
      "16      5000   tidak            0  \n",
      "17     75000      ya            6  \n",
      "18      9000   tidak            0  \n",
      "19     15000      ya            5  \n"
     ]
    }
   ],
   "source": [
    "dt= data_txt.copy()\n",
    "print(dt)"
   ]
  },
  {
   "cell_type": "code",
   "execution_count": 123,
   "id": "3cc3b026",
   "metadata": {},
   "outputs": [
    {
     "name": "stdout",
     "output_type": "stream",
     "text": [
      "   No.            Nama Tanggal Lahir Jenis Kelamin Pekerjaan  Gaji  Tabungan  \\\n",
      "0    1      Putu Diana    1995-01-14     Perempuan    dokter  5000    100000   \n",
      "1    2       Made Andi    1994-02-15     Laki-laki   perawat  4000    150000   \n",
      "2    3    Komang Lukis    1993-03-16     Laki-laki     bidan  4000    200000   \n",
      "3    4  Ketut Koncreng    1992-04-17     Perempuan     buruh  3000       500   \n",
      "\n",
      "  Menikah  Jumlah Anak  \n",
      "0   tidak            0  \n",
      "1      ya            4  \n",
      "2      ya            3  \n",
      "3      ya            2  \n"
     ]
    }
   ],
   "source": [
    "print(dt.head(4))"
   ]
  },
  {
   "cell_type": "code",
   "execution_count": 124,
   "id": "ed669790",
   "metadata": {},
   "outputs": [
    {
     "name": "stdout",
     "output_type": "stream",
     "text": [
      "Index(['No.', 'Nama', 'Tanggal Lahir', 'Jenis Kelamin', 'Pekerjaan', 'Gaji',\n",
      "       'Tabungan', 'Menikah', 'Jumlah Anak'],\n",
      "      dtype='object')\n"
     ]
    }
   ],
   "source": [
    "print(dt.columns)"
   ]
  },
  {
   "cell_type": "code",
   "execution_count": 125,
   "id": "0fc15f90",
   "metadata": {},
   "outputs": [
    {
     "name": "stdout",
     "output_type": "stream",
     "text": [
      "0           Putu Diana\n",
      "1            Made Andi\n",
      "2         Komang Lukis\n",
      "3       Ketut Koncreng\n",
      "4          Wayan Bagus\n",
      "5          Kadek Bocok\n",
      "6         Nyoman Jegeg\n",
      "7           Ketut Lama\n",
      "8              Luh Ani\n",
      "9          Made Sengap\n",
      "10          Made Santi\n",
      "11      Luh Madeinbali\n",
      "12    Ketut Kusumadewi\n",
      "13         Komang Dewi\n",
      "14      Kadek Dewiyani\n",
      "15       Luh Santidewi\n",
      "16         Putu Medewi\n",
      "17       Nyoman Madewi\n",
      "18         Kadek Pekak\n",
      "19         Made Sengap\n",
      "Name: Nama, dtype: object\n"
     ]
    }
   ],
   "source": [
    "print(dt['Nama'])"
   ]
  },
  {
   "cell_type": "code",
   "execution_count": 126,
   "id": "6ba5eeb1",
   "metadata": {},
   "outputs": [
    {
     "name": "stdout",
     "output_type": "stream",
     "text": [
      "Putu Diana\n"
     ]
    }
   ],
   "source": [
    "print(dt['Nama'][0])"
   ]
  },
  {
   "cell_type": "code",
   "execution_count": 128,
   "id": "2f10640c",
   "metadata": {},
   "outputs": [
    {
     "name": "stdout",
     "output_type": "stream",
     "text": [
      "1         Made Andi\n",
      "2      Komang Lukis\n",
      "3    Ketut Koncreng\n",
      "4       Wayan Bagus\n",
      "Name: Nama, dtype: object\n"
     ]
    }
   ],
   "source": [
    "print(dt['Nama'][1:5])"
   ]
  },
  {
   "cell_type": "code",
   "execution_count": 130,
   "id": "f57a91df",
   "metadata": {},
   "outputs": [
    {
     "name": "stdout",
     "output_type": "stream",
     "text": [
      "             Nama Tanggal Lahir\n",
      "1       Made Andi    1994-02-15\n",
      "2    Komang Lukis    1993-03-16\n",
      "3  Ketut Koncreng    1992-04-17\n",
      "4     Wayan Bagus    1991-05-18\n"
     ]
    }
   ],
   "source": [
    "print(dt[['Nama','Tanggal Lahir']][1:5])"
   ]
  },
  {
   "cell_type": "code",
   "execution_count": 131,
   "id": "1da0d9fd",
   "metadata": {},
   "outputs": [
    {
     "name": "stdout",
     "output_type": "stream",
     "text": [
      "No.                       2\n",
      "Nama              Made Andi\n",
      "Tanggal Lahir    1994-02-15\n",
      "Jenis Kelamin     Laki-laki\n",
      "Pekerjaan           perawat\n",
      "Gaji                   4000\n",
      "Tabungan             150000\n",
      "Menikah                  ya\n",
      "Jumlah Anak               4\n",
      "Name: 1, dtype: object\n"
     ]
    }
   ],
   "source": [
    "print(dt.iloc[1])"
   ]
  },
  {
   "cell_type": "code",
   "execution_count": 132,
   "id": "b20bd5e5",
   "metadata": {},
   "outputs": [
    {
     "name": "stdout",
     "output_type": "stream",
     "text": [
      "   No.            Nama Tanggal Lahir Jenis Kelamin Pekerjaan   Gaji  Tabungan  \\\n",
      "1    2       Made Andi    1994-02-15     Laki-laki   perawat   4000    150000   \n",
      "2    3    Komang Lukis    1993-03-16     Laki-laki     bidan   4000    200000   \n",
      "3    4  Ketut Koncreng    1992-04-17     Perempuan     buruh   3000       500   \n",
      "4    5     Wayan Bagus    1991-05-18     Laki-laki    dagang  10000    500000   \n",
      "\n",
      "  Menikah  Jumlah Anak  \n",
      "1      ya            4  \n",
      "2      ya            3  \n",
      "3      ya            2  \n",
      "4   tidak            0  \n"
     ]
    }
   ],
   "source": [
    "print(dt.iloc[1:5])"
   ]
  },
  {
   "cell_type": "code",
   "execution_count": 133,
   "id": "20cec3fb",
   "metadata": {},
   "outputs": [
    {
     "name": "stdout",
     "output_type": "stream",
     "text": [
      "    No.              Nama Tanggal Lahir Jenis Kelamin Pekerjaan   Gaji  \\\n",
      "0     1        Putu Diana    1995-01-14     Perempuan    dokter   5000   \n",
      "3     4    Ketut Koncreng    1992-04-17     Perempuan     buruh   3000   \n",
      "6     7      Nyoman Jegeg    1989-06-20     Perempuan     artis   3000   \n",
      "8     9           Luh Ani    1987-08-22     Perempuan    dagang   5000   \n",
      "10   11        Made Santi    1995-01-01     Perempuan    dokter   6000   \n",
      "12   13  Ketut Kusumadewi    1990-01-03     Perempuan     bidan   8000   \n",
      "14   15    Kadek Dewiyani    1991-06-15     Perempuan     buruh  11000   \n",
      "16   17       Putu Medewi    1992-06-16     Perempuan     buruh   3500   \n",
      "17   18     Nyoman Madewi    1994-07-13     Perempuan    dagang   1500   \n",
      "\n",
      "    Tabungan Menikah  Jumlah Anak  \n",
      "0     100000   tidak            0  \n",
      "3        500      ya            2  \n",
      "6      50000   tidak            0  \n",
      "8      50000      ya            2  \n",
      "10     20000   tidak            0  \n",
      "12     10000   tidak            0  \n",
      "14     35000   tidak            0  \n",
      "16      5000   tidak            0  \n",
      "17     75000      ya            6  \n"
     ]
    }
   ],
   "source": [
    "print(dt.loc[dt['Jenis Kelamin']=='Perempuan'])"
   ]
  },
  {
   "cell_type": "code",
   "execution_count": 134,
   "id": "f09a9a48",
   "metadata": {},
   "outputs": [
    {
     "data": {
      "text/html": [
       "<div>\n",
       "<style scoped>\n",
       "    .dataframe tbody tr th:only-of-type {\n",
       "        vertical-align: middle;\n",
       "    }\n",
       "\n",
       "    .dataframe tbody tr th {\n",
       "        vertical-align: top;\n",
       "    }\n",
       "\n",
       "    .dataframe thead th {\n",
       "        text-align: right;\n",
       "    }\n",
       "</style>\n",
       "<table border=\"1\" class=\"dataframe\">\n",
       "  <thead>\n",
       "    <tr style=\"text-align: right;\">\n",
       "      <th></th>\n",
       "      <th>No.</th>\n",
       "      <th>Nama</th>\n",
       "      <th>Tanggal Lahir</th>\n",
       "      <th>Jenis Kelamin</th>\n",
       "      <th>Pekerjaan</th>\n",
       "      <th>Gaji</th>\n",
       "      <th>Tabungan</th>\n",
       "      <th>Menikah</th>\n",
       "      <th>Jumlah Anak</th>\n",
       "    </tr>\n",
       "  </thead>\n",
       "  <tbody>\n",
       "    <tr>\n",
       "      <th>5</th>\n",
       "      <td>6</td>\n",
       "      <td>Kadek Bocok</td>\n",
       "      <td>1990-03-19</td>\n",
       "      <td>Laki-laki</td>\n",
       "      <td>supir</td>\n",
       "      <td>6000</td>\n",
       "      <td>1000</td>\n",
       "      <td>tidak</td>\n",
       "      <td>0</td>\n",
       "    </tr>\n",
       "    <tr>\n",
       "      <th>14</th>\n",
       "      <td>15</td>\n",
       "      <td>Kadek Dewiyani</td>\n",
       "      <td>1991-06-15</td>\n",
       "      <td>Perempuan</td>\n",
       "      <td>buruh</td>\n",
       "      <td>11000</td>\n",
       "      <td>35000</td>\n",
       "      <td>tidak</td>\n",
       "      <td>0</td>\n",
       "    </tr>\n",
       "    <tr>\n",
       "      <th>18</th>\n",
       "      <td>19</td>\n",
       "      <td>Kadek Pekak</td>\n",
       "      <td>1992-05-14</td>\n",
       "      <td>Laki-laki</td>\n",
       "      <td>buruh</td>\n",
       "      <td>2500</td>\n",
       "      <td>9000</td>\n",
       "      <td>tidak</td>\n",
       "      <td>0</td>\n",
       "    </tr>\n",
       "    <tr>\n",
       "      <th>3</th>\n",
       "      <td>4</td>\n",
       "      <td>Ketut Koncreng</td>\n",
       "      <td>1992-04-17</td>\n",
       "      <td>Perempuan</td>\n",
       "      <td>buruh</td>\n",
       "      <td>3000</td>\n",
       "      <td>500</td>\n",
       "      <td>ya</td>\n",
       "      <td>2</td>\n",
       "    </tr>\n",
       "    <tr>\n",
       "      <th>12</th>\n",
       "      <td>13</td>\n",
       "      <td>Ketut Kusumadewi</td>\n",
       "      <td>1990-01-03</td>\n",
       "      <td>Perempuan</td>\n",
       "      <td>bidan</td>\n",
       "      <td>8000</td>\n",
       "      <td>10000</td>\n",
       "      <td>tidak</td>\n",
       "      <td>0</td>\n",
       "    </tr>\n",
       "    <tr>\n",
       "      <th>7</th>\n",
       "      <td>8</td>\n",
       "      <td>Ketut Lama</td>\n",
       "      <td>1988-07-21</td>\n",
       "      <td>Laki-laki</td>\n",
       "      <td>supir</td>\n",
       "      <td>4000</td>\n",
       "      <td>2000</td>\n",
       "      <td>ya</td>\n",
       "      <td>1</td>\n",
       "    </tr>\n",
       "    <tr>\n",
       "      <th>13</th>\n",
       "      <td>14</td>\n",
       "      <td>Komang Dewi</td>\n",
       "      <td>1993-02-05</td>\n",
       "      <td>None</td>\n",
       "      <td>dokter</td>\n",
       "      <td>10000</td>\n",
       "      <td>25000</td>\n",
       "      <td>ya</td>\n",
       "      <td>2</td>\n",
       "    </tr>\n",
       "    <tr>\n",
       "      <th>2</th>\n",
       "      <td>3</td>\n",
       "      <td>Komang Lukis</td>\n",
       "      <td>1993-03-16</td>\n",
       "      <td>Laki-laki</td>\n",
       "      <td>bidan</td>\n",
       "      <td>4000</td>\n",
       "      <td>200000</td>\n",
       "      <td>ya</td>\n",
       "      <td>3</td>\n",
       "    </tr>\n",
       "    <tr>\n",
       "      <th>8</th>\n",
       "      <td>9</td>\n",
       "      <td>Luh Ani</td>\n",
       "      <td>1987-08-22</td>\n",
       "      <td>Perempuan</td>\n",
       "      <td>dagang</td>\n",
       "      <td>5000</td>\n",
       "      <td>50000</td>\n",
       "      <td>ya</td>\n",
       "      <td>2</td>\n",
       "    </tr>\n",
       "    <tr>\n",
       "      <th>11</th>\n",
       "      <td>12</td>\n",
       "      <td>Luh Madeinbali</td>\n",
       "      <td>1994-01-02</td>\n",
       "      <td>None</td>\n",
       "      <td>perawat</td>\n",
       "      <td>7000</td>\n",
       "      <td>500</td>\n",
       "      <td>ya</td>\n",
       "      <td>4</td>\n",
       "    </tr>\n",
       "    <tr>\n",
       "      <th>15</th>\n",
       "      <td>16</td>\n",
       "      <td>Luh Santidewi</td>\n",
       "      <td>1991-07-15</td>\n",
       "      <td>None</td>\n",
       "      <td>artis</td>\n",
       "      <td>7000</td>\n",
       "      <td>7000</td>\n",
       "      <td>ya</td>\n",
       "      <td>3</td>\n",
       "    </tr>\n",
       "    <tr>\n",
       "      <th>1</th>\n",
       "      <td>2</td>\n",
       "      <td>Made Andi</td>\n",
       "      <td>1994-02-15</td>\n",
       "      <td>Laki-laki</td>\n",
       "      <td>perawat</td>\n",
       "      <td>4000</td>\n",
       "      <td>150000</td>\n",
       "      <td>ya</td>\n",
       "      <td>4</td>\n",
       "    </tr>\n",
       "    <tr>\n",
       "      <th>10</th>\n",
       "      <td>11</td>\n",
       "      <td>Made Santi</td>\n",
       "      <td>1995-01-01</td>\n",
       "      <td>Perempuan</td>\n",
       "      <td>dokter</td>\n",
       "      <td>6000</td>\n",
       "      <td>20000</td>\n",
       "      <td>tidak</td>\n",
       "      <td>0</td>\n",
       "    </tr>\n",
       "    <tr>\n",
       "      <th>9</th>\n",
       "      <td>10</td>\n",
       "      <td>Made Sengap</td>\n",
       "      <td>1986-09-23</td>\n",
       "      <td>Laki-laki</td>\n",
       "      <td>supir</td>\n",
       "      <td>3500</td>\n",
       "      <td>700000</td>\n",
       "      <td>ya</td>\n",
       "      <td>2</td>\n",
       "    </tr>\n",
       "    <tr>\n",
       "      <th>19</th>\n",
       "      <td>20</td>\n",
       "      <td>Made Sengap</td>\n",
       "      <td>1991-06-15</td>\n",
       "      <td>Laki-laki</td>\n",
       "      <td>supir</td>\n",
       "      <td>4500</td>\n",
       "      <td>15000</td>\n",
       "      <td>ya</td>\n",
       "      <td>5</td>\n",
       "    </tr>\n",
       "    <tr>\n",
       "      <th>6</th>\n",
       "      <td>7</td>\n",
       "      <td>Nyoman Jegeg</td>\n",
       "      <td>1989-06-20</td>\n",
       "      <td>Perempuan</td>\n",
       "      <td>artis</td>\n",
       "      <td>3000</td>\n",
       "      <td>50000</td>\n",
       "      <td>tidak</td>\n",
       "      <td>0</td>\n",
       "    </tr>\n",
       "    <tr>\n",
       "      <th>17</th>\n",
       "      <td>18</td>\n",
       "      <td>Nyoman Madewi</td>\n",
       "      <td>1994-07-13</td>\n",
       "      <td>Perempuan</td>\n",
       "      <td>dagang</td>\n",
       "      <td>1500</td>\n",
       "      <td>75000</td>\n",
       "      <td>ya</td>\n",
       "      <td>6</td>\n",
       "    </tr>\n",
       "    <tr>\n",
       "      <th>0</th>\n",
       "      <td>1</td>\n",
       "      <td>Putu Diana</td>\n",
       "      <td>1995-01-14</td>\n",
       "      <td>Perempuan</td>\n",
       "      <td>dokter</td>\n",
       "      <td>5000</td>\n",
       "      <td>100000</td>\n",
       "      <td>tidak</td>\n",
       "      <td>0</td>\n",
       "    </tr>\n",
       "    <tr>\n",
       "      <th>16</th>\n",
       "      <td>17</td>\n",
       "      <td>Putu Medewi</td>\n",
       "      <td>1992-06-16</td>\n",
       "      <td>Perempuan</td>\n",
       "      <td>buruh</td>\n",
       "      <td>3500</td>\n",
       "      <td>5000</td>\n",
       "      <td>tidak</td>\n",
       "      <td>0</td>\n",
       "    </tr>\n",
       "    <tr>\n",
       "      <th>4</th>\n",
       "      <td>5</td>\n",
       "      <td>Wayan Bagus</td>\n",
       "      <td>1991-05-18</td>\n",
       "      <td>Laki-laki</td>\n",
       "      <td>dagang</td>\n",
       "      <td>10000</td>\n",
       "      <td>500000</td>\n",
       "      <td>tidak</td>\n",
       "      <td>0</td>\n",
       "    </tr>\n",
       "  </tbody>\n",
       "</table>\n",
       "</div>"
      ],
      "text/plain": [
       "    No.              Nama Tanggal Lahir Jenis Kelamin Pekerjaan   Gaji  \\\n",
       "5     6       Kadek Bocok    1990-03-19     Laki-laki     supir   6000   \n",
       "14   15    Kadek Dewiyani    1991-06-15     Perempuan     buruh  11000   \n",
       "18   19       Kadek Pekak    1992-05-14     Laki-laki     buruh   2500   \n",
       "3     4    Ketut Koncreng    1992-04-17     Perempuan     buruh   3000   \n",
       "12   13  Ketut Kusumadewi    1990-01-03     Perempuan     bidan   8000   \n",
       "7     8        Ketut Lama    1988-07-21     Laki-laki     supir   4000   \n",
       "13   14       Komang Dewi    1993-02-05          None    dokter  10000   \n",
       "2     3      Komang Lukis    1993-03-16     Laki-laki     bidan   4000   \n",
       "8     9           Luh Ani    1987-08-22     Perempuan    dagang   5000   \n",
       "11   12    Luh Madeinbali    1994-01-02          None   perawat   7000   \n",
       "15   16     Luh Santidewi    1991-07-15          None     artis   7000   \n",
       "1     2         Made Andi    1994-02-15     Laki-laki   perawat   4000   \n",
       "10   11        Made Santi    1995-01-01     Perempuan    dokter   6000   \n",
       "9    10       Made Sengap    1986-09-23     Laki-laki     supir   3500   \n",
       "19   20       Made Sengap    1991-06-15     Laki-laki     supir   4500   \n",
       "6     7      Nyoman Jegeg    1989-06-20     Perempuan     artis   3000   \n",
       "17   18     Nyoman Madewi    1994-07-13     Perempuan    dagang   1500   \n",
       "0     1        Putu Diana    1995-01-14     Perempuan    dokter   5000   \n",
       "16   17       Putu Medewi    1992-06-16     Perempuan     buruh   3500   \n",
       "4     5       Wayan Bagus    1991-05-18     Laki-laki    dagang  10000   \n",
       "\n",
       "    Tabungan Menikah  Jumlah Anak  \n",
       "5       1000   tidak            0  \n",
       "14     35000   tidak            0  \n",
       "18      9000   tidak            0  \n",
       "3        500      ya            2  \n",
       "12     10000   tidak            0  \n",
       "7       2000      ya            1  \n",
       "13     25000      ya            2  \n",
       "2     200000      ya            3  \n",
       "8      50000      ya            2  \n",
       "11       500      ya            4  \n",
       "15      7000      ya            3  \n",
       "1     150000      ya            4  \n",
       "10     20000   tidak            0  \n",
       "9     700000      ya            2  \n",
       "19     15000      ya            5  \n",
       "6      50000   tidak            0  \n",
       "17     75000      ya            6  \n",
       "0     100000   tidak            0  \n",
       "16      5000   tidak            0  \n",
       "4     500000   tidak            0  "
      ]
     },
     "execution_count": 134,
     "metadata": {},
     "output_type": "execute_result"
    }
   ],
   "source": [
    "dt.sort_values('Nama')"
   ]
  },
  {
   "cell_type": "code",
   "execution_count": 135,
   "id": "021322b7",
   "metadata": {},
   "outputs": [
    {
     "data": {
      "text/html": [
       "<div>\n",
       "<style scoped>\n",
       "    .dataframe tbody tr th:only-of-type {\n",
       "        vertical-align: middle;\n",
       "    }\n",
       "\n",
       "    .dataframe tbody tr th {\n",
       "        vertical-align: top;\n",
       "    }\n",
       "\n",
       "    .dataframe thead th {\n",
       "        text-align: right;\n",
       "    }\n",
       "</style>\n",
       "<table border=\"1\" class=\"dataframe\">\n",
       "  <thead>\n",
       "    <tr style=\"text-align: right;\">\n",
       "      <th></th>\n",
       "      <th>No.</th>\n",
       "      <th>Nama</th>\n",
       "      <th>Tanggal Lahir</th>\n",
       "      <th>Jenis Kelamin</th>\n",
       "      <th>Pekerjaan</th>\n",
       "      <th>Gaji</th>\n",
       "      <th>Tabungan</th>\n",
       "      <th>Menikah</th>\n",
       "      <th>Jumlah Anak</th>\n",
       "    </tr>\n",
       "  </thead>\n",
       "  <tbody>\n",
       "    <tr>\n",
       "      <th>4</th>\n",
       "      <td>5</td>\n",
       "      <td>Wayan Bagus</td>\n",
       "      <td>1991-05-18</td>\n",
       "      <td>Laki-laki</td>\n",
       "      <td>dagang</td>\n",
       "      <td>10000</td>\n",
       "      <td>500000</td>\n",
       "      <td>tidak</td>\n",
       "      <td>0</td>\n",
       "    </tr>\n",
       "    <tr>\n",
       "      <th>16</th>\n",
       "      <td>17</td>\n",
       "      <td>Putu Medewi</td>\n",
       "      <td>1992-06-16</td>\n",
       "      <td>Perempuan</td>\n",
       "      <td>buruh</td>\n",
       "      <td>3500</td>\n",
       "      <td>5000</td>\n",
       "      <td>tidak</td>\n",
       "      <td>0</td>\n",
       "    </tr>\n",
       "    <tr>\n",
       "      <th>0</th>\n",
       "      <td>1</td>\n",
       "      <td>Putu Diana</td>\n",
       "      <td>1995-01-14</td>\n",
       "      <td>Perempuan</td>\n",
       "      <td>dokter</td>\n",
       "      <td>5000</td>\n",
       "      <td>100000</td>\n",
       "      <td>tidak</td>\n",
       "      <td>0</td>\n",
       "    </tr>\n",
       "    <tr>\n",
       "      <th>17</th>\n",
       "      <td>18</td>\n",
       "      <td>Nyoman Madewi</td>\n",
       "      <td>1994-07-13</td>\n",
       "      <td>Perempuan</td>\n",
       "      <td>dagang</td>\n",
       "      <td>1500</td>\n",
       "      <td>75000</td>\n",
       "      <td>ya</td>\n",
       "      <td>6</td>\n",
       "    </tr>\n",
       "    <tr>\n",
       "      <th>6</th>\n",
       "      <td>7</td>\n",
       "      <td>Nyoman Jegeg</td>\n",
       "      <td>1989-06-20</td>\n",
       "      <td>Perempuan</td>\n",
       "      <td>artis</td>\n",
       "      <td>3000</td>\n",
       "      <td>50000</td>\n",
       "      <td>tidak</td>\n",
       "      <td>0</td>\n",
       "    </tr>\n",
       "    <tr>\n",
       "      <th>9</th>\n",
       "      <td>10</td>\n",
       "      <td>Made Sengap</td>\n",
       "      <td>1986-09-23</td>\n",
       "      <td>Laki-laki</td>\n",
       "      <td>supir</td>\n",
       "      <td>3500</td>\n",
       "      <td>700000</td>\n",
       "      <td>ya</td>\n",
       "      <td>2</td>\n",
       "    </tr>\n",
       "    <tr>\n",
       "      <th>19</th>\n",
       "      <td>20</td>\n",
       "      <td>Made Sengap</td>\n",
       "      <td>1991-06-15</td>\n",
       "      <td>Laki-laki</td>\n",
       "      <td>supir</td>\n",
       "      <td>4500</td>\n",
       "      <td>15000</td>\n",
       "      <td>ya</td>\n",
       "      <td>5</td>\n",
       "    </tr>\n",
       "    <tr>\n",
       "      <th>10</th>\n",
       "      <td>11</td>\n",
       "      <td>Made Santi</td>\n",
       "      <td>1995-01-01</td>\n",
       "      <td>Perempuan</td>\n",
       "      <td>dokter</td>\n",
       "      <td>6000</td>\n",
       "      <td>20000</td>\n",
       "      <td>tidak</td>\n",
       "      <td>0</td>\n",
       "    </tr>\n",
       "    <tr>\n",
       "      <th>1</th>\n",
       "      <td>2</td>\n",
       "      <td>Made Andi</td>\n",
       "      <td>1994-02-15</td>\n",
       "      <td>Laki-laki</td>\n",
       "      <td>perawat</td>\n",
       "      <td>4000</td>\n",
       "      <td>150000</td>\n",
       "      <td>ya</td>\n",
       "      <td>4</td>\n",
       "    </tr>\n",
       "    <tr>\n",
       "      <th>15</th>\n",
       "      <td>16</td>\n",
       "      <td>Luh Santidewi</td>\n",
       "      <td>1991-07-15</td>\n",
       "      <td>None</td>\n",
       "      <td>artis</td>\n",
       "      <td>7000</td>\n",
       "      <td>7000</td>\n",
       "      <td>ya</td>\n",
       "      <td>3</td>\n",
       "    </tr>\n",
       "    <tr>\n",
       "      <th>11</th>\n",
       "      <td>12</td>\n",
       "      <td>Luh Madeinbali</td>\n",
       "      <td>1994-01-02</td>\n",
       "      <td>None</td>\n",
       "      <td>perawat</td>\n",
       "      <td>7000</td>\n",
       "      <td>500</td>\n",
       "      <td>ya</td>\n",
       "      <td>4</td>\n",
       "    </tr>\n",
       "    <tr>\n",
       "      <th>8</th>\n",
       "      <td>9</td>\n",
       "      <td>Luh Ani</td>\n",
       "      <td>1987-08-22</td>\n",
       "      <td>Perempuan</td>\n",
       "      <td>dagang</td>\n",
       "      <td>5000</td>\n",
       "      <td>50000</td>\n",
       "      <td>ya</td>\n",
       "      <td>2</td>\n",
       "    </tr>\n",
       "    <tr>\n",
       "      <th>2</th>\n",
       "      <td>3</td>\n",
       "      <td>Komang Lukis</td>\n",
       "      <td>1993-03-16</td>\n",
       "      <td>Laki-laki</td>\n",
       "      <td>bidan</td>\n",
       "      <td>4000</td>\n",
       "      <td>200000</td>\n",
       "      <td>ya</td>\n",
       "      <td>3</td>\n",
       "    </tr>\n",
       "    <tr>\n",
       "      <th>13</th>\n",
       "      <td>14</td>\n",
       "      <td>Komang Dewi</td>\n",
       "      <td>1993-02-05</td>\n",
       "      <td>None</td>\n",
       "      <td>dokter</td>\n",
       "      <td>10000</td>\n",
       "      <td>25000</td>\n",
       "      <td>ya</td>\n",
       "      <td>2</td>\n",
       "    </tr>\n",
       "    <tr>\n",
       "      <th>7</th>\n",
       "      <td>8</td>\n",
       "      <td>Ketut Lama</td>\n",
       "      <td>1988-07-21</td>\n",
       "      <td>Laki-laki</td>\n",
       "      <td>supir</td>\n",
       "      <td>4000</td>\n",
       "      <td>2000</td>\n",
       "      <td>ya</td>\n",
       "      <td>1</td>\n",
       "    </tr>\n",
       "    <tr>\n",
       "      <th>12</th>\n",
       "      <td>13</td>\n",
       "      <td>Ketut Kusumadewi</td>\n",
       "      <td>1990-01-03</td>\n",
       "      <td>Perempuan</td>\n",
       "      <td>bidan</td>\n",
       "      <td>8000</td>\n",
       "      <td>10000</td>\n",
       "      <td>tidak</td>\n",
       "      <td>0</td>\n",
       "    </tr>\n",
       "    <tr>\n",
       "      <th>3</th>\n",
       "      <td>4</td>\n",
       "      <td>Ketut Koncreng</td>\n",
       "      <td>1992-04-17</td>\n",
       "      <td>Perempuan</td>\n",
       "      <td>buruh</td>\n",
       "      <td>3000</td>\n",
       "      <td>500</td>\n",
       "      <td>ya</td>\n",
       "      <td>2</td>\n",
       "    </tr>\n",
       "    <tr>\n",
       "      <th>18</th>\n",
       "      <td>19</td>\n",
       "      <td>Kadek Pekak</td>\n",
       "      <td>1992-05-14</td>\n",
       "      <td>Laki-laki</td>\n",
       "      <td>buruh</td>\n",
       "      <td>2500</td>\n",
       "      <td>9000</td>\n",
       "      <td>tidak</td>\n",
       "      <td>0</td>\n",
       "    </tr>\n",
       "    <tr>\n",
       "      <th>14</th>\n",
       "      <td>15</td>\n",
       "      <td>Kadek Dewiyani</td>\n",
       "      <td>1991-06-15</td>\n",
       "      <td>Perempuan</td>\n",
       "      <td>buruh</td>\n",
       "      <td>11000</td>\n",
       "      <td>35000</td>\n",
       "      <td>tidak</td>\n",
       "      <td>0</td>\n",
       "    </tr>\n",
       "    <tr>\n",
       "      <th>5</th>\n",
       "      <td>6</td>\n",
       "      <td>Kadek Bocok</td>\n",
       "      <td>1990-03-19</td>\n",
       "      <td>Laki-laki</td>\n",
       "      <td>supir</td>\n",
       "      <td>6000</td>\n",
       "      <td>1000</td>\n",
       "      <td>tidak</td>\n",
       "      <td>0</td>\n",
       "    </tr>\n",
       "  </tbody>\n",
       "</table>\n",
       "</div>"
      ],
      "text/plain": [
       "    No.              Nama Tanggal Lahir Jenis Kelamin Pekerjaan   Gaji  \\\n",
       "4     5       Wayan Bagus    1991-05-18     Laki-laki    dagang  10000   \n",
       "16   17       Putu Medewi    1992-06-16     Perempuan     buruh   3500   \n",
       "0     1        Putu Diana    1995-01-14     Perempuan    dokter   5000   \n",
       "17   18     Nyoman Madewi    1994-07-13     Perempuan    dagang   1500   \n",
       "6     7      Nyoman Jegeg    1989-06-20     Perempuan     artis   3000   \n",
       "9    10       Made Sengap    1986-09-23     Laki-laki     supir   3500   \n",
       "19   20       Made Sengap    1991-06-15     Laki-laki     supir   4500   \n",
       "10   11        Made Santi    1995-01-01     Perempuan    dokter   6000   \n",
       "1     2         Made Andi    1994-02-15     Laki-laki   perawat   4000   \n",
       "15   16     Luh Santidewi    1991-07-15          None     artis   7000   \n",
       "11   12    Luh Madeinbali    1994-01-02          None   perawat   7000   \n",
       "8     9           Luh Ani    1987-08-22     Perempuan    dagang   5000   \n",
       "2     3      Komang Lukis    1993-03-16     Laki-laki     bidan   4000   \n",
       "13   14       Komang Dewi    1993-02-05          None    dokter  10000   \n",
       "7     8        Ketut Lama    1988-07-21     Laki-laki     supir   4000   \n",
       "12   13  Ketut Kusumadewi    1990-01-03     Perempuan     bidan   8000   \n",
       "3     4    Ketut Koncreng    1992-04-17     Perempuan     buruh   3000   \n",
       "18   19       Kadek Pekak    1992-05-14     Laki-laki     buruh   2500   \n",
       "14   15    Kadek Dewiyani    1991-06-15     Perempuan     buruh  11000   \n",
       "5     6       Kadek Bocok    1990-03-19     Laki-laki     supir   6000   \n",
       "\n",
       "    Tabungan Menikah  Jumlah Anak  \n",
       "4     500000   tidak            0  \n",
       "16      5000   tidak            0  \n",
       "0     100000   tidak            0  \n",
       "17     75000      ya            6  \n",
       "6      50000   tidak            0  \n",
       "9     700000      ya            2  \n",
       "19     15000      ya            5  \n",
       "10     20000   tidak            0  \n",
       "1     150000      ya            4  \n",
       "15      7000      ya            3  \n",
       "11       500      ya            4  \n",
       "8      50000      ya            2  \n",
       "2     200000      ya            3  \n",
       "13     25000      ya            2  \n",
       "7       2000      ya            1  \n",
       "12     10000   tidak            0  \n",
       "3        500      ya            2  \n",
       "18      9000   tidak            0  \n",
       "14     35000   tidak            0  \n",
       "5       1000   tidak            0  "
      ]
     },
     "execution_count": 135,
     "metadata": {},
     "output_type": "execute_result"
    }
   ],
   "source": [
    "dt.sort_values('Nama', ascending=False)"
   ]
  },
  {
   "cell_type": "code",
   "execution_count": 136,
   "id": "ed5f2ddc",
   "metadata": {},
   "outputs": [
    {
     "data": {
      "text/html": [
       "<div>\n",
       "<style scoped>\n",
       "    .dataframe tbody tr th:only-of-type {\n",
       "        vertical-align: middle;\n",
       "    }\n",
       "\n",
       "    .dataframe tbody tr th {\n",
       "        vertical-align: top;\n",
       "    }\n",
       "\n",
       "    .dataframe thead th {\n",
       "        text-align: right;\n",
       "    }\n",
       "</style>\n",
       "<table border=\"1\" class=\"dataframe\">\n",
       "  <thead>\n",
       "    <tr style=\"text-align: right;\">\n",
       "      <th></th>\n",
       "      <th>No.</th>\n",
       "      <th>Nama</th>\n",
       "      <th>Tanggal Lahir</th>\n",
       "      <th>Jenis Kelamin</th>\n",
       "      <th>Pekerjaan</th>\n",
       "      <th>Gaji</th>\n",
       "      <th>Tabungan</th>\n",
       "      <th>Menikah</th>\n",
       "      <th>Jumlah Anak</th>\n",
       "    </tr>\n",
       "  </thead>\n",
       "  <tbody>\n",
       "    <tr>\n",
       "      <th>2</th>\n",
       "      <td>3</td>\n",
       "      <td>Komang Lukis</td>\n",
       "      <td>1993-03-16</td>\n",
       "      <td>Laki-laki</td>\n",
       "      <td>bidan</td>\n",
       "      <td>4000</td>\n",
       "      <td>200000</td>\n",
       "      <td>ya</td>\n",
       "      <td>3</td>\n",
       "    </tr>\n",
       "    <tr>\n",
       "      <th>18</th>\n",
       "      <td>19</td>\n",
       "      <td>Kadek Pekak</td>\n",
       "      <td>1992-05-14</td>\n",
       "      <td>Laki-laki</td>\n",
       "      <td>buruh</td>\n",
       "      <td>2500</td>\n",
       "      <td>9000</td>\n",
       "      <td>tidak</td>\n",
       "      <td>0</td>\n",
       "    </tr>\n",
       "    <tr>\n",
       "      <th>4</th>\n",
       "      <td>5</td>\n",
       "      <td>Wayan Bagus</td>\n",
       "      <td>1991-05-18</td>\n",
       "      <td>Laki-laki</td>\n",
       "      <td>dagang</td>\n",
       "      <td>10000</td>\n",
       "      <td>500000</td>\n",
       "      <td>tidak</td>\n",
       "      <td>0</td>\n",
       "    </tr>\n",
       "    <tr>\n",
       "      <th>1</th>\n",
       "      <td>2</td>\n",
       "      <td>Made Andi</td>\n",
       "      <td>1994-02-15</td>\n",
       "      <td>Laki-laki</td>\n",
       "      <td>perawat</td>\n",
       "      <td>4000</td>\n",
       "      <td>150000</td>\n",
       "      <td>ya</td>\n",
       "      <td>4</td>\n",
       "    </tr>\n",
       "    <tr>\n",
       "      <th>5</th>\n",
       "      <td>6</td>\n",
       "      <td>Kadek Bocok</td>\n",
       "      <td>1990-03-19</td>\n",
       "      <td>Laki-laki</td>\n",
       "      <td>supir</td>\n",
       "      <td>6000</td>\n",
       "      <td>1000</td>\n",
       "      <td>tidak</td>\n",
       "      <td>0</td>\n",
       "    </tr>\n",
       "    <tr>\n",
       "      <th>7</th>\n",
       "      <td>8</td>\n",
       "      <td>Ketut Lama</td>\n",
       "      <td>1988-07-21</td>\n",
       "      <td>Laki-laki</td>\n",
       "      <td>supir</td>\n",
       "      <td>4000</td>\n",
       "      <td>2000</td>\n",
       "      <td>ya</td>\n",
       "      <td>1</td>\n",
       "    </tr>\n",
       "    <tr>\n",
       "      <th>9</th>\n",
       "      <td>10</td>\n",
       "      <td>Made Sengap</td>\n",
       "      <td>1986-09-23</td>\n",
       "      <td>Laki-laki</td>\n",
       "      <td>supir</td>\n",
       "      <td>3500</td>\n",
       "      <td>700000</td>\n",
       "      <td>ya</td>\n",
       "      <td>2</td>\n",
       "    </tr>\n",
       "    <tr>\n",
       "      <th>19</th>\n",
       "      <td>20</td>\n",
       "      <td>Made Sengap</td>\n",
       "      <td>1991-06-15</td>\n",
       "      <td>Laki-laki</td>\n",
       "      <td>supir</td>\n",
       "      <td>4500</td>\n",
       "      <td>15000</td>\n",
       "      <td>ya</td>\n",
       "      <td>5</td>\n",
       "    </tr>\n",
       "    <tr>\n",
       "      <th>15</th>\n",
       "      <td>16</td>\n",
       "      <td>Luh Santidewi</td>\n",
       "      <td>1991-07-15</td>\n",
       "      <td>None</td>\n",
       "      <td>artis</td>\n",
       "      <td>7000</td>\n",
       "      <td>7000</td>\n",
       "      <td>ya</td>\n",
       "      <td>3</td>\n",
       "    </tr>\n",
       "    <tr>\n",
       "      <th>13</th>\n",
       "      <td>14</td>\n",
       "      <td>Komang Dewi</td>\n",
       "      <td>1993-02-05</td>\n",
       "      <td>None</td>\n",
       "      <td>dokter</td>\n",
       "      <td>10000</td>\n",
       "      <td>25000</td>\n",
       "      <td>ya</td>\n",
       "      <td>2</td>\n",
       "    </tr>\n",
       "    <tr>\n",
       "      <th>11</th>\n",
       "      <td>12</td>\n",
       "      <td>Luh Madeinbali</td>\n",
       "      <td>1994-01-02</td>\n",
       "      <td>None</td>\n",
       "      <td>perawat</td>\n",
       "      <td>7000</td>\n",
       "      <td>500</td>\n",
       "      <td>ya</td>\n",
       "      <td>4</td>\n",
       "    </tr>\n",
       "    <tr>\n",
       "      <th>6</th>\n",
       "      <td>7</td>\n",
       "      <td>Nyoman Jegeg</td>\n",
       "      <td>1989-06-20</td>\n",
       "      <td>Perempuan</td>\n",
       "      <td>artis</td>\n",
       "      <td>3000</td>\n",
       "      <td>50000</td>\n",
       "      <td>tidak</td>\n",
       "      <td>0</td>\n",
       "    </tr>\n",
       "    <tr>\n",
       "      <th>12</th>\n",
       "      <td>13</td>\n",
       "      <td>Ketut Kusumadewi</td>\n",
       "      <td>1990-01-03</td>\n",
       "      <td>Perempuan</td>\n",
       "      <td>bidan</td>\n",
       "      <td>8000</td>\n",
       "      <td>10000</td>\n",
       "      <td>tidak</td>\n",
       "      <td>0</td>\n",
       "    </tr>\n",
       "    <tr>\n",
       "      <th>3</th>\n",
       "      <td>4</td>\n",
       "      <td>Ketut Koncreng</td>\n",
       "      <td>1992-04-17</td>\n",
       "      <td>Perempuan</td>\n",
       "      <td>buruh</td>\n",
       "      <td>3000</td>\n",
       "      <td>500</td>\n",
       "      <td>ya</td>\n",
       "      <td>2</td>\n",
       "    </tr>\n",
       "    <tr>\n",
       "      <th>14</th>\n",
       "      <td>15</td>\n",
       "      <td>Kadek Dewiyani</td>\n",
       "      <td>1991-06-15</td>\n",
       "      <td>Perempuan</td>\n",
       "      <td>buruh</td>\n",
       "      <td>11000</td>\n",
       "      <td>35000</td>\n",
       "      <td>tidak</td>\n",
       "      <td>0</td>\n",
       "    </tr>\n",
       "    <tr>\n",
       "      <th>16</th>\n",
       "      <td>17</td>\n",
       "      <td>Putu Medewi</td>\n",
       "      <td>1992-06-16</td>\n",
       "      <td>Perempuan</td>\n",
       "      <td>buruh</td>\n",
       "      <td>3500</td>\n",
       "      <td>5000</td>\n",
       "      <td>tidak</td>\n",
       "      <td>0</td>\n",
       "    </tr>\n",
       "    <tr>\n",
       "      <th>8</th>\n",
       "      <td>9</td>\n",
       "      <td>Luh Ani</td>\n",
       "      <td>1987-08-22</td>\n",
       "      <td>Perempuan</td>\n",
       "      <td>dagang</td>\n",
       "      <td>5000</td>\n",
       "      <td>50000</td>\n",
       "      <td>ya</td>\n",
       "      <td>2</td>\n",
       "    </tr>\n",
       "    <tr>\n",
       "      <th>17</th>\n",
       "      <td>18</td>\n",
       "      <td>Nyoman Madewi</td>\n",
       "      <td>1994-07-13</td>\n",
       "      <td>Perempuan</td>\n",
       "      <td>dagang</td>\n",
       "      <td>1500</td>\n",
       "      <td>75000</td>\n",
       "      <td>ya</td>\n",
       "      <td>6</td>\n",
       "    </tr>\n",
       "    <tr>\n",
       "      <th>0</th>\n",
       "      <td>1</td>\n",
       "      <td>Putu Diana</td>\n",
       "      <td>1995-01-14</td>\n",
       "      <td>Perempuan</td>\n",
       "      <td>dokter</td>\n",
       "      <td>5000</td>\n",
       "      <td>100000</td>\n",
       "      <td>tidak</td>\n",
       "      <td>0</td>\n",
       "    </tr>\n",
       "    <tr>\n",
       "      <th>10</th>\n",
       "      <td>11</td>\n",
       "      <td>Made Santi</td>\n",
       "      <td>1995-01-01</td>\n",
       "      <td>Perempuan</td>\n",
       "      <td>dokter</td>\n",
       "      <td>6000</td>\n",
       "      <td>20000</td>\n",
       "      <td>tidak</td>\n",
       "      <td>0</td>\n",
       "    </tr>\n",
       "  </tbody>\n",
       "</table>\n",
       "</div>"
      ],
      "text/plain": [
       "    No.              Nama Tanggal Lahir Jenis Kelamin Pekerjaan   Gaji  \\\n",
       "2     3      Komang Lukis    1993-03-16     Laki-laki     bidan   4000   \n",
       "18   19       Kadek Pekak    1992-05-14     Laki-laki     buruh   2500   \n",
       "4     5       Wayan Bagus    1991-05-18     Laki-laki    dagang  10000   \n",
       "1     2         Made Andi    1994-02-15     Laki-laki   perawat   4000   \n",
       "5     6       Kadek Bocok    1990-03-19     Laki-laki     supir   6000   \n",
       "7     8        Ketut Lama    1988-07-21     Laki-laki     supir   4000   \n",
       "9    10       Made Sengap    1986-09-23     Laki-laki     supir   3500   \n",
       "19   20       Made Sengap    1991-06-15     Laki-laki     supir   4500   \n",
       "15   16     Luh Santidewi    1991-07-15          None     artis   7000   \n",
       "13   14       Komang Dewi    1993-02-05          None    dokter  10000   \n",
       "11   12    Luh Madeinbali    1994-01-02          None   perawat   7000   \n",
       "6     7      Nyoman Jegeg    1989-06-20     Perempuan     artis   3000   \n",
       "12   13  Ketut Kusumadewi    1990-01-03     Perempuan     bidan   8000   \n",
       "3     4    Ketut Koncreng    1992-04-17     Perempuan     buruh   3000   \n",
       "14   15    Kadek Dewiyani    1991-06-15     Perempuan     buruh  11000   \n",
       "16   17       Putu Medewi    1992-06-16     Perempuan     buruh   3500   \n",
       "8     9           Luh Ani    1987-08-22     Perempuan    dagang   5000   \n",
       "17   18     Nyoman Madewi    1994-07-13     Perempuan    dagang   1500   \n",
       "0     1        Putu Diana    1995-01-14     Perempuan    dokter   5000   \n",
       "10   11        Made Santi    1995-01-01     Perempuan    dokter   6000   \n",
       "\n",
       "    Tabungan Menikah  Jumlah Anak  \n",
       "2     200000      ya            3  \n",
       "18      9000   tidak            0  \n",
       "4     500000   tidak            0  \n",
       "1     150000      ya            4  \n",
       "5       1000   tidak            0  \n",
       "7       2000      ya            1  \n",
       "9     700000      ya            2  \n",
       "19     15000      ya            5  \n",
       "15      7000      ya            3  \n",
       "13     25000      ya            2  \n",
       "11       500      ya            4  \n",
       "6      50000   tidak            0  \n",
       "12     10000   tidak            0  \n",
       "3        500      ya            2  \n",
       "14     35000   tidak            0  \n",
       "16      5000   tidak            0  \n",
       "8      50000      ya            2  \n",
       "17     75000      ya            6  \n",
       "0     100000   tidak            0  \n",
       "10     20000   tidak            0  "
      ]
     },
     "execution_count": 136,
     "metadata": {},
     "output_type": "execute_result"
    }
   ],
   "source": [
    "dt.sort_values(['Jenis Kelamin','Pekerjaan'])"
   ]
  },
  {
   "cell_type": "code",
   "execution_count": 138,
   "id": "21e1bdff",
   "metadata": {},
   "outputs": [
    {
     "name": "stdout",
     "output_type": "stream",
     "text": [
      "    No.              Nama Tanggal Lahir Jenis Kelamin Pekerjaan   Gaji  \\\n",
      "0     1        Putu Diana    1995-01-14     Perempuan    dokter   5000   \n",
      "1     2         Made Andi    1994-02-15     Laki-laki   perawat   4000   \n",
      "2     3      Komang Lukis    1993-03-16     Laki-laki     bidan   4000   \n",
      "3     4    Ketut Koncreng    1992-04-17     Perempuan     buruh   3000   \n",
      "4     5       Wayan Bagus    1991-05-18     Laki-laki    dagang  10000   \n",
      "5     6       Kadek Bocok    1990-03-19     Laki-laki     supir   6000   \n",
      "6     7      Nyoman Jegeg    1989-06-20     Perempuan     artis   3000   \n",
      "7     8        Ketut Lama    1988-07-21     Laki-laki     supir   4000   \n",
      "8     9           Luh Ani    1987-08-22     Perempuan    dagang   5000   \n",
      "9    10       Made Sengap    1986-09-23     Laki-laki     supir   3500   \n",
      "10   11        Made Santi    1995-01-01     Perempuan    dokter   6000   \n",
      "11   12    Luh Madeinbali    1994-01-02          None   perawat   7000   \n",
      "12   13  Ketut Kusumadewi    1990-01-03     Perempuan     bidan   8000   \n",
      "13   14       Komang Dewi    1993-02-05          None    dokter  10000   \n",
      "14   15    Kadek Dewiyani    1991-06-15     Perempuan     buruh  11000   \n",
      "15   16     Luh Santidewi    1991-07-15          None     artis   7000   \n",
      "16   17       Putu Medewi    1992-06-16     Perempuan     buruh   3500   \n",
      "17   18     Nyoman Madewi    1994-07-13     Perempuan    dagang   1500   \n",
      "18   19       Kadek Pekak    1992-05-14     Laki-laki     buruh   2500   \n",
      "19   20       Made Sengap    1991-06-15     Laki-laki     supir   4500   \n",
      "\n",
      "    Tabungan Menikah  Jumlah Anak  Gaji Setahun  \n",
      "0     100000   tidak            0         60000  \n",
      "1     150000      ya            4         48000  \n",
      "2     200000      ya            3         48000  \n",
      "3        500      ya            2         36000  \n",
      "4     500000   tidak            0        120000  \n",
      "5       1000   tidak            0         72000  \n",
      "6      50000   tidak            0         36000  \n",
      "7       2000      ya            1         48000  \n",
      "8      50000      ya            2         60000  \n",
      "9     700000      ya            2         42000  \n",
      "10     20000   tidak            0         72000  \n",
      "11       500      ya            4         84000  \n",
      "12     10000   tidak            0         96000  \n",
      "13     25000      ya            2        120000  \n",
      "14     35000   tidak            0        132000  \n",
      "15      7000      ya            3         84000  \n",
      "16      5000   tidak            0         42000  \n",
      "17     75000      ya            6         18000  \n",
      "18      9000   tidak            0         30000  \n",
      "19     15000      ya            5         54000  \n"
     ]
    }
   ],
   "source": [
    "dt['Gaji Setahun']=12*dt['Gaji']\n",
    "print(dt)"
   ]
  },
  {
   "cell_type": "code",
   "execution_count": 139,
   "id": "3e4c3b0e",
   "metadata": {},
   "outputs": [
    {
     "name": "stdout",
     "output_type": "stream",
     "text": [
      "    No.              Nama Tanggal Lahir Jenis Kelamin Pekerjaan   Gaji  \\\n",
      "0     1        Putu Diana    1995-01-14     Perempuan    dokter   5000   \n",
      "1     2         Made Andi    1994-02-15     Laki-laki   perawat   4000   \n",
      "2     3      Komang Lukis    1993-03-16     Laki-laki     bidan   4000   \n",
      "3     4    Ketut Koncreng    1992-04-17     Perempuan     buruh   3000   \n",
      "4     5       Wayan Bagus    1991-05-18     Laki-laki    dagang  10000   \n",
      "5     6       Kadek Bocok    1990-03-19     Laki-laki     supir   6000   \n",
      "6     7      Nyoman Jegeg    1989-06-20     Perempuan     artis   3000   \n",
      "7     8        Ketut Lama    1988-07-21     Laki-laki     supir   4000   \n",
      "8     9           Luh Ani    1987-08-22     Perempuan    dagang   5000   \n",
      "9    10       Made Sengap    1986-09-23     Laki-laki     supir   3500   \n",
      "10   11        Made Santi    1995-01-01     Perempuan    dokter   6000   \n",
      "11   12    Luh Madeinbali    1994-01-02          None   perawat   7000   \n",
      "12   13  Ketut Kusumadewi    1990-01-03     Perempuan     bidan   8000   \n",
      "13   14       Komang Dewi    1993-02-05          None    dokter  10000   \n",
      "14   15    Kadek Dewiyani    1991-06-15     Perempuan     buruh  11000   \n",
      "15   16     Luh Santidewi    1991-07-15          None     artis   7000   \n",
      "16   17       Putu Medewi    1992-06-16     Perempuan     buruh   3500   \n",
      "17   18     Nyoman Madewi    1994-07-13     Perempuan    dagang   1500   \n",
      "18   19       Kadek Pekak    1992-05-14     Laki-laki     buruh   2500   \n",
      "19   20       Made Sengap    1991-06-15     Laki-laki     supir   4500   \n",
      "\n",
      "    Tabungan Menikah  Jumlah Anak  \n",
      "0     100000   tidak            0  \n",
      "1     150000      ya            4  \n",
      "2     200000      ya            3  \n",
      "3        500      ya            2  \n",
      "4     500000   tidak            0  \n",
      "5       1000   tidak            0  \n",
      "6      50000   tidak            0  \n",
      "7       2000      ya            1  \n",
      "8      50000      ya            2  \n",
      "9     700000      ya            2  \n",
      "10     20000   tidak            0  \n",
      "11       500      ya            4  \n",
      "12     10000   tidak            0  \n",
      "13     25000      ya            2  \n",
      "14     35000   tidak            0  \n",
      "15      7000      ya            3  \n",
      "16      5000   tidak            0  \n",
      "17     75000      ya            6  \n",
      "18      9000   tidak            0  \n",
      "19     15000      ya            5  \n"
     ]
    }
   ],
   "source": [
    "dt = dt.drop(columns=['Gaji Setahun'])\n",
    "print(dt)"
   ]
  },
  {
   "cell_type": "code",
   "execution_count": 142,
   "id": "8396a6ed",
   "metadata": {},
   "outputs": [
    {
     "name": "stdout",
     "output_type": "stream",
     "text": [
      "    No.              Nama Tanggal Lahir Jenis Kelamin Pekerjaan   Gaji  \\\n",
      "0     1        Putu Diana    1995-01-14     Perempuan    dokter   5000   \n",
      "1     2         Made Andi    1994-02-15     Laki-laki   perawat   4000   \n",
      "2     3      Komang Lukis    1993-03-16     Laki-laki     bidan   4000   \n",
      "3     4    Ketut Koncreng    1992-04-17     Perempuan     buruh   3000   \n",
      "4     5       Wayan Bagus    1991-05-18     Laki-laki    dagang  10000   \n",
      "5     6       Kadek Bocok    1990-03-19     Laki-laki     supir   6000   \n",
      "6     7      Nyoman Jegeg    1989-06-20     Perempuan     artis   3000   \n",
      "7     8        Ketut Lama    1988-07-21     Laki-laki     supir   4000   \n",
      "8     9           Luh Ani    1987-08-22     Perempuan    dagang   5000   \n",
      "9    10       Made Sengap    1986-09-23     Laki-laki     supir   3500   \n",
      "10   11        Made Santi    1995-01-01     Perempuan    dokter   6000   \n",
      "11   12    Luh Madeinbali    1994-01-02     Perempuan   perawat   7000   \n",
      "12   13  Ketut Kusumadewi    1990-01-03     Perempuan     bidan   8000   \n",
      "13   14       Komang Dewi    1993-02-05     Perempuan    dokter  10000   \n",
      "14   15    Kadek Dewiyani    1991-06-15     Perempuan     buruh  11000   \n",
      "15   16     Luh Santidewi    1991-07-15     Perempuan     artis   7000   \n",
      "16   17       Putu Medewi    1992-06-16     Perempuan     buruh   3500   \n",
      "17   18     Nyoman Madewi    1994-07-13     Perempuan    dagang   1500   \n",
      "18   19       Kadek Pekak    1992-05-14     Laki-laki     buruh   2500   \n",
      "19   20       Made Sengap    1991-06-15     Laki-laki     supir   4500   \n",
      "\n",
      "    Tabungan Menikah  Jumlah Anak  Jumlah Uang  \n",
      "0     100000   tidak            0       105000  \n",
      "1     150000      ya            4       154000  \n",
      "2     200000      ya            3       204000  \n",
      "3        500      ya            2         3500  \n",
      "4     500000   tidak            0       510000  \n",
      "5       1000   tidak            0         7000  \n",
      "6      50000   tidak            0        53000  \n",
      "7       2000      ya            1         6000  \n",
      "8      50000      ya            2        55000  \n",
      "9     700000      ya            2       703500  \n",
      "10     20000   tidak            0        26000  \n",
      "11       500      ya            4         7500  \n",
      "12     10000   tidak            0        18000  \n",
      "13     25000      ya            2        35000  \n",
      "14     35000   tidak            0        46000  \n",
      "15      7000      ya            3        14000  \n",
      "16      5000   tidak            0         8500  \n",
      "17     75000      ya            6        76500  \n",
      "18      9000   tidak            0        11500  \n",
      "19     15000      ya            5        19500  \n"
     ]
    }
   ],
   "source": [
    "dt['Jenis Kelamin']= dt['Jenis Kelamin'].replace(['None'],'Perempuan')\n",
    "print(dt)"
   ]
  },
  {
   "cell_type": "code",
   "execution_count": 141,
   "id": "133bbb4c",
   "metadata": {},
   "outputs": [
    {
     "name": "stdout",
     "output_type": "stream",
     "text": [
      "    No.              Nama Tanggal Lahir Jenis Kelamin Pekerjaan   Gaji  \\\n",
      "0     1        Putu Diana    1995-01-14     Perempuan    dokter   5000   \n",
      "1     2         Made Andi    1994-02-15     Laki-laki   perawat   4000   \n",
      "2     3      Komang Lukis    1993-03-16     Laki-laki     bidan   4000   \n",
      "3     4    Ketut Koncreng    1992-04-17     Perempuan     buruh   3000   \n",
      "4     5       Wayan Bagus    1991-05-18     Laki-laki    dagang  10000   \n",
      "5     6       Kadek Bocok    1990-03-19     Laki-laki     supir   6000   \n",
      "6     7      Nyoman Jegeg    1989-06-20     Perempuan     artis   3000   \n",
      "7     8        Ketut Lama    1988-07-21     Laki-laki     supir   4000   \n",
      "8     9           Luh Ani    1987-08-22     Perempuan    dagang   5000   \n",
      "9    10       Made Sengap    1986-09-23     Laki-laki     supir   3500   \n",
      "10   11        Made Santi    1995-01-01     Perempuan    dokter   6000   \n",
      "11   12    Luh Madeinbali    1994-01-02          None   perawat   7000   \n",
      "12   13  Ketut Kusumadewi    1990-01-03     Perempuan     bidan   8000   \n",
      "13   14       Komang Dewi    1993-02-05          None    dokter  10000   \n",
      "14   15    Kadek Dewiyani    1991-06-15     Perempuan     buruh  11000   \n",
      "15   16     Luh Santidewi    1991-07-15          None     artis   7000   \n",
      "16   17       Putu Medewi    1992-06-16     Perempuan     buruh   3500   \n",
      "17   18     Nyoman Madewi    1994-07-13     Perempuan    dagang   1500   \n",
      "18   19       Kadek Pekak    1992-05-14     Laki-laki     buruh   2500   \n",
      "19   20       Made Sengap    1991-06-15     Laki-laki     supir   4500   \n",
      "\n",
      "    Tabungan Menikah  Jumlah Anak  Jumlah Uang  \n",
      "0     100000   tidak            0       105000  \n",
      "1     150000      ya            4       154000  \n",
      "2     200000      ya            3       204000  \n",
      "3        500      ya            2         3500  \n",
      "4     500000   tidak            0       510000  \n",
      "5       1000   tidak            0         7000  \n",
      "6      50000   tidak            0        53000  \n",
      "7       2000      ya            1         6000  \n",
      "8      50000      ya            2        55000  \n",
      "9     700000      ya            2       703500  \n",
      "10     20000   tidak            0        26000  \n",
      "11       500      ya            4         7500  \n",
      "12     10000   tidak            0        18000  \n",
      "13     25000      ya            2        35000  \n",
      "14     35000   tidak            0        46000  \n",
      "15      7000      ya            3        14000  \n",
      "16      5000   tidak            0         8500  \n",
      "17     75000      ya            6        76500  \n",
      "18      9000   tidak            0        11500  \n",
      "19     15000      ya            5        19500  \n"
     ]
    }
   ],
   "source": [
    "dt['Jumlah Uang']= dt.iloc[:,5:7].sum(axis=1)\n",
    "print(dt)"
   ]
  },
  {
   "cell_type": "code",
   "execution_count": 143,
   "id": "6f91e5a6",
   "metadata": {},
   "outputs": [],
   "source": [
    "dt.to_csv('data_palsu_baru.txt',index=False, sep ='\\t')"
   ]
  },
  {
   "cell_type": "code",
   "execution_count": 144,
   "id": "b968e381",
   "metadata": {},
   "outputs": [
    {
     "name": "stdout",
     "output_type": "stream",
     "text": [
      "   No.\\tNama\\tTanggal Lahir\\tJenis Kelamin\\tPekerjaan\\tGaji\\tTabungan\\tMenikah\\tJumlah Anak\\tJumlah Uang\n",
      "0   1\\tPutu Diana\\t1995-01-14\\tPerempuan\\tdokter\\t...                                                   \n",
      "1   2\\tMade Andi\\t1994-02-15\\tLaki-laki\\tperawat\\t...                                                   \n",
      "2   3\\tKomang Lukis\\t1993-03-16\\tLaki-laki\\tbidan\\...                                                   \n",
      "3   4\\tKetut Koncreng\\t1992-04-17\\tPerempuan\\tburu...                                                   \n",
      "4   5\\tWayan Bagus\\t1991-05-18\\tLaki-laki\\tdagang\\...                                                   \n",
      "5   6\\tKadek Bocok\\t1990-03-19\\tLaki-laki\\tsupir\\t...                                                   \n",
      "6   7\\tNyoman Jegeg\\t1989-06-20\\tPerempuan\\tartis\\...                                                   \n",
      "7   8\\tKetut Lama\\t1988-07-21\\tLaki-laki\\tsupir\\t4...                                                   \n",
      "8   9\\tLuh Ani\\t1987-08-22\\tPerempuan\\tdagang\\t500...                                                   \n",
      "9   10\\tMade Sengap\\t1986-09-23\\tLaki-laki\\tsupir\\...                                                   \n",
      "10  11\\tMade Santi\\t1995-01-01\\tPerempuan\\tdokter\\...                                                   \n",
      "11  12\\tLuh Madeinbali\\t1994-01-02\\tPerempuan\\tper...                                                   \n",
      "12  13\\tKetut Kusumadewi\\t1990-01-03\\tPerempuan\\tb...                                                   \n",
      "13  14\\tKomang Dewi\\t1993-02-05\\tPerempuan\\tdokter...                                                   \n",
      "14  15\\tKadek Dewiyani\\t1991-06-15\\tPerempuan\\tbur...                                                   \n",
      "15  16\\tLuh Santidewi\\t1991-07-15\\tPerempuan\\tarti...                                                   \n",
      "16  17\\tPutu Medewi\\t1992-06-16\\tPerempuan\\tburuh\\...                                                   \n",
      "17  18\\tNyoman Madewi\\t1994-07-13\\tPerempuan\\tdaga...                                                   \n",
      "18  19\\tKadek Pekak\\t1992-05-14\\tLaki-laki\\tburuh\\...                                                   \n",
      "19  20\\tMade Sengap\\t1991-06-15\\tLaki-laki\\tsupir\\...                                                   \n"
     ]
    }
   ],
   "source": [
    "data = pd.read_csv('data_palsu_baru.txt')\n",
    "print(data)"
   ]
  },
  {
   "cell_type": "code",
   "execution_count": 145,
   "id": "e61566dc",
   "metadata": {},
   "outputs": [
    {
     "data": {
      "text/html": [
       "<div>\n",
       "<style scoped>\n",
       "    .dataframe tbody tr th:only-of-type {\n",
       "        vertical-align: middle;\n",
       "    }\n",
       "\n",
       "    .dataframe tbody tr th {\n",
       "        vertical-align: top;\n",
       "    }\n",
       "\n",
       "    .dataframe thead th {\n",
       "        text-align: right;\n",
       "    }\n",
       "</style>\n",
       "<table border=\"1\" class=\"dataframe\">\n",
       "  <thead>\n",
       "    <tr style=\"text-align: right;\">\n",
       "      <th></th>\n",
       "      <th>No.</th>\n",
       "      <th>Nama</th>\n",
       "      <th>Tanggal Lahir</th>\n",
       "      <th>Jenis Kelamin</th>\n",
       "      <th>Pekerjaan</th>\n",
       "      <th>Gaji</th>\n",
       "      <th>Tabungan</th>\n",
       "      <th>Menikah</th>\n",
       "      <th>Jumlah Anak</th>\n",
       "      <th>Jumlah Uang</th>\n",
       "    </tr>\n",
       "  </thead>\n",
       "  <tbody>\n",
       "    <tr>\n",
       "      <th>1</th>\n",
       "      <td>2</td>\n",
       "      <td>Made Andi</td>\n",
       "      <td>1994-02-15</td>\n",
       "      <td>Laki-laki</td>\n",
       "      <td>perawat</td>\n",
       "      <td>4000</td>\n",
       "      <td>150000</td>\n",
       "      <td>ya</td>\n",
       "      <td>4</td>\n",
       "      <td>154000</td>\n",
       "    </tr>\n",
       "    <tr>\n",
       "      <th>2</th>\n",
       "      <td>3</td>\n",
       "      <td>Komang Lukis</td>\n",
       "      <td>1993-03-16</td>\n",
       "      <td>Laki-laki</td>\n",
       "      <td>bidan</td>\n",
       "      <td>4000</td>\n",
       "      <td>200000</td>\n",
       "      <td>ya</td>\n",
       "      <td>3</td>\n",
       "      <td>204000</td>\n",
       "    </tr>\n",
       "    <tr>\n",
       "      <th>4</th>\n",
       "      <td>5</td>\n",
       "      <td>Wayan Bagus</td>\n",
       "      <td>1991-05-18</td>\n",
       "      <td>Laki-laki</td>\n",
       "      <td>dagang</td>\n",
       "      <td>10000</td>\n",
       "      <td>500000</td>\n",
       "      <td>tidak</td>\n",
       "      <td>0</td>\n",
       "      <td>510000</td>\n",
       "    </tr>\n",
       "    <tr>\n",
       "      <th>5</th>\n",
       "      <td>6</td>\n",
       "      <td>Kadek Bocok</td>\n",
       "      <td>1990-03-19</td>\n",
       "      <td>Laki-laki</td>\n",
       "      <td>supir</td>\n",
       "      <td>6000</td>\n",
       "      <td>1000</td>\n",
       "      <td>tidak</td>\n",
       "      <td>0</td>\n",
       "      <td>7000</td>\n",
       "    </tr>\n",
       "    <tr>\n",
       "      <th>7</th>\n",
       "      <td>8</td>\n",
       "      <td>Ketut Lama</td>\n",
       "      <td>1988-07-21</td>\n",
       "      <td>Laki-laki</td>\n",
       "      <td>supir</td>\n",
       "      <td>4000</td>\n",
       "      <td>2000</td>\n",
       "      <td>ya</td>\n",
       "      <td>1</td>\n",
       "      <td>6000</td>\n",
       "    </tr>\n",
       "    <tr>\n",
       "      <th>9</th>\n",
       "      <td>10</td>\n",
       "      <td>Made Sengap</td>\n",
       "      <td>1986-09-23</td>\n",
       "      <td>Laki-laki</td>\n",
       "      <td>supir</td>\n",
       "      <td>3500</td>\n",
       "      <td>700000</td>\n",
       "      <td>ya</td>\n",
       "      <td>2</td>\n",
       "      <td>703500</td>\n",
       "    </tr>\n",
       "    <tr>\n",
       "      <th>18</th>\n",
       "      <td>19</td>\n",
       "      <td>Kadek Pekak</td>\n",
       "      <td>1992-05-14</td>\n",
       "      <td>Laki-laki</td>\n",
       "      <td>buruh</td>\n",
       "      <td>2500</td>\n",
       "      <td>9000</td>\n",
       "      <td>tidak</td>\n",
       "      <td>0</td>\n",
       "      <td>11500</td>\n",
       "    </tr>\n",
       "    <tr>\n",
       "      <th>19</th>\n",
       "      <td>20</td>\n",
       "      <td>Made Sengap</td>\n",
       "      <td>1991-06-15</td>\n",
       "      <td>Laki-laki</td>\n",
       "      <td>supir</td>\n",
       "      <td>4500</td>\n",
       "      <td>15000</td>\n",
       "      <td>ya</td>\n",
       "      <td>5</td>\n",
       "      <td>19500</td>\n",
       "    </tr>\n",
       "  </tbody>\n",
       "</table>\n",
       "</div>"
      ],
      "text/plain": [
       "    No.          Nama Tanggal Lahir Jenis Kelamin Pekerjaan   Gaji  Tabungan  \\\n",
       "1     2     Made Andi    1994-02-15     Laki-laki   perawat   4000    150000   \n",
       "2     3  Komang Lukis    1993-03-16     Laki-laki     bidan   4000    200000   \n",
       "4     5   Wayan Bagus    1991-05-18     Laki-laki    dagang  10000    500000   \n",
       "5     6   Kadek Bocok    1990-03-19     Laki-laki     supir   6000      1000   \n",
       "7     8    Ketut Lama    1988-07-21     Laki-laki     supir   4000      2000   \n",
       "9    10   Made Sengap    1986-09-23     Laki-laki     supir   3500    700000   \n",
       "18   19   Kadek Pekak    1992-05-14     Laki-laki     buruh   2500      9000   \n",
       "19   20   Made Sengap    1991-06-15     Laki-laki     supir   4500     15000   \n",
       "\n",
       "   Menikah  Jumlah Anak  Jumlah Uang  \n",
       "1       ya            4       154000  \n",
       "2       ya            3       204000  \n",
       "4    tidak            0       510000  \n",
       "5    tidak            0         7000  \n",
       "7       ya            1         6000  \n",
       "9       ya            2       703500  \n",
       "18   tidak            0        11500  \n",
       "19      ya            5        19500  "
      ]
     },
     "execution_count": 145,
     "metadata": {},
     "output_type": "execute_result"
    }
   ],
   "source": [
    "dt.loc[dt['Jenis Kelamin']=='Laki-laki']"
   ]
  },
  {
   "cell_type": "code",
   "execution_count": 146,
   "id": "b94a34bf",
   "metadata": {},
   "outputs": [
    {
     "data": {
      "text/html": [
       "<div>\n",
       "<style scoped>\n",
       "    .dataframe tbody tr th:only-of-type {\n",
       "        vertical-align: middle;\n",
       "    }\n",
       "\n",
       "    .dataframe tbody tr th {\n",
       "        vertical-align: top;\n",
       "    }\n",
       "\n",
       "    .dataframe thead th {\n",
       "        text-align: right;\n",
       "    }\n",
       "</style>\n",
       "<table border=\"1\" class=\"dataframe\">\n",
       "  <thead>\n",
       "    <tr style=\"text-align: right;\">\n",
       "      <th></th>\n",
       "      <th>No.</th>\n",
       "      <th>Gaji</th>\n",
       "      <th>Tabungan</th>\n",
       "      <th>Jumlah Anak</th>\n",
       "      <th>Jumlah Uang</th>\n",
       "    </tr>\n",
       "    <tr>\n",
       "      <th>Jenis Kelamin</th>\n",
       "      <th></th>\n",
       "      <th></th>\n",
       "      <th></th>\n",
       "      <th></th>\n",
       "      <th></th>\n",
       "    </tr>\n",
       "  </thead>\n",
       "  <tbody>\n",
       "    <tr>\n",
       "      <th>Laki-laki</th>\n",
       "      <td>9.125000</td>\n",
       "      <td>4812.500000</td>\n",
       "      <td>197125.0</td>\n",
       "      <td>1.875000</td>\n",
       "      <td>201937.500000</td>\n",
       "    </tr>\n",
       "    <tr>\n",
       "      <th>Perempuan</th>\n",
       "      <td>11.416667</td>\n",
       "      <td>5833.333333</td>\n",
       "      <td>31500.0</td>\n",
       "      <td>1.583333</td>\n",
       "      <td>37333.333333</td>\n",
       "    </tr>\n",
       "  </tbody>\n",
       "</table>\n",
       "</div>"
      ],
      "text/plain": [
       "                     No.         Gaji  Tabungan  Jumlah Anak    Jumlah Uang\n",
       "Jenis Kelamin                                                              \n",
       "Laki-laki       9.125000  4812.500000  197125.0     1.875000  201937.500000\n",
       "Perempuan      11.416667  5833.333333   31500.0     1.583333   37333.333333"
      ]
     },
     "execution_count": 146,
     "metadata": {},
     "output_type": "execute_result"
    }
   ],
   "source": [
    "dt.groupby(['Jenis Kelamin']).mean()"
   ]
  },
  {
   "cell_type": "code",
   "execution_count": 150,
   "id": "a1d94a95",
   "metadata": {},
   "outputs": [
    {
     "data": {
      "text/html": [
       "<div>\n",
       "<style scoped>\n",
       "    .dataframe tbody tr th:only-of-type {\n",
       "        vertical-align: middle;\n",
       "    }\n",
       "\n",
       "    .dataframe tbody tr th {\n",
       "        vertical-align: top;\n",
       "    }\n",
       "\n",
       "    .dataframe thead th {\n",
       "        text-align: right;\n",
       "    }\n",
       "</style>\n",
       "<table border=\"1\" class=\"dataframe\">\n",
       "  <thead>\n",
       "    <tr style=\"text-align: right;\">\n",
       "      <th></th>\n",
       "      <th>No.</th>\n",
       "      <th>Gaji</th>\n",
       "      <th>Tabungan</th>\n",
       "      <th>Jumlah Anak</th>\n",
       "      <th>Jumlah Uang</th>\n",
       "    </tr>\n",
       "    <tr>\n",
       "      <th>Pekerjaan</th>\n",
       "      <th></th>\n",
       "      <th></th>\n",
       "      <th></th>\n",
       "      <th></th>\n",
       "      <th></th>\n",
       "    </tr>\n",
       "  </thead>\n",
       "  <tbody>\n",
       "    <tr>\n",
       "      <th>supir</th>\n",
       "      <td>11.000000</td>\n",
       "      <td>4500.0</td>\n",
       "      <td>179500.000000</td>\n",
       "      <td>2.000000</td>\n",
       "      <td>184000.000000</td>\n",
       "    </tr>\n",
       "    <tr>\n",
       "      <th>artis</th>\n",
       "      <td>11.500000</td>\n",
       "      <td>5000.0</td>\n",
       "      <td>28500.000000</td>\n",
       "      <td>1.500000</td>\n",
       "      <td>33500.000000</td>\n",
       "    </tr>\n",
       "    <tr>\n",
       "      <th>buruh</th>\n",
       "      <td>13.750000</td>\n",
       "      <td>5000.0</td>\n",
       "      <td>12375.000000</td>\n",
       "      <td>0.500000</td>\n",
       "      <td>17375.000000</td>\n",
       "    </tr>\n",
       "    <tr>\n",
       "      <th>dagang</th>\n",
       "      <td>10.666667</td>\n",
       "      <td>5500.0</td>\n",
       "      <td>208333.333333</td>\n",
       "      <td>2.666667</td>\n",
       "      <td>213833.333333</td>\n",
       "    </tr>\n",
       "    <tr>\n",
       "      <th>perawat</th>\n",
       "      <td>7.000000</td>\n",
       "      <td>5500.0</td>\n",
       "      <td>75250.000000</td>\n",
       "      <td>4.000000</td>\n",
       "      <td>80750.000000</td>\n",
       "    </tr>\n",
       "    <tr>\n",
       "      <th>bidan</th>\n",
       "      <td>8.000000</td>\n",
       "      <td>6000.0</td>\n",
       "      <td>105000.000000</td>\n",
       "      <td>1.500000</td>\n",
       "      <td>111000.000000</td>\n",
       "    </tr>\n",
       "    <tr>\n",
       "      <th>dokter</th>\n",
       "      <td>8.666667</td>\n",
       "      <td>7000.0</td>\n",
       "      <td>48333.333333</td>\n",
       "      <td>0.666667</td>\n",
       "      <td>55333.333333</td>\n",
       "    </tr>\n",
       "  </tbody>\n",
       "</table>\n",
       "</div>"
      ],
      "text/plain": [
       "                 No.    Gaji       Tabungan  Jumlah Anak    Jumlah Uang\n",
       "Pekerjaan                                                              \n",
       "supir      11.000000  4500.0  179500.000000     2.000000  184000.000000\n",
       "artis      11.500000  5000.0   28500.000000     1.500000   33500.000000\n",
       "buruh      13.750000  5000.0   12375.000000     0.500000   17375.000000\n",
       "dagang     10.666667  5500.0  208333.333333     2.666667  213833.333333\n",
       "perawat     7.000000  5500.0   75250.000000     4.000000   80750.000000\n",
       "bidan       8.000000  6000.0  105000.000000     1.500000  111000.000000\n",
       "dokter      8.666667  7000.0   48333.333333     0.666667   55333.333333"
      ]
     },
     "execution_count": 150,
     "metadata": {},
     "output_type": "execute_result"
    }
   ],
   "source": [
    "dt.groupby(['Pekerjaan']).mean().sort_values('Gaji',ascending=True)"
   ]
  },
  {
   "cell_type": "code",
   "execution_count": 129,
   "id": "c1431ebe",
   "metadata": {},
   "outputs": [],
   "source": [
    "import numpy as np\n",
    "import pandas as pd\n",
    "import matplotlib.pyplot as plt"
   ]
  },
  {
   "cell_type": "code",
   "execution_count": 113,
   "id": "ea2a69ec",
   "metadata": {},
   "outputs": [
    {
     "data": {
      "text/plain": [
       "Text(0, 0.5, 'Y')"
      ]
     },
     "execution_count": 113,
     "metadata": {},
     "output_type": "execute_result"
    },
    {
     "data": {
      "image/png": "[encoded data removed]",
      "text/plain": [
       "<Figure size 432x288 with 1 Axes>"
      ]
     },
     "metadata": {
      "needs_background": "light"
     },
     "output_type": "display_data"
    }
   ],
   "source": [
    "x = [1,2,3]\n",
    "y = [2,4,6]\n",
    "\n",
    "plt.plot(x,y)\n",
    "plt.title(\"Grafik y=2x\")\n",
    "plt.xlabel('X')\n",
    "plt.ylabel('Y')"
   ]
  },
  {
   "cell_type": "code",
   "execution_count": 114,
   "id": "36201fed",
   "metadata": {},
   "outputs": [
    {
     "data": {
      "text/plain": [
       "<BarContainer object of 2 artists>"
      ]
     },
     "execution_count": 114,
     "metadata": {},
     "output_type": "execute_result"
    },
    {
     "data": {
      "image/png": "[encoded data removed]",
      "text/plain": [
       "<Figure size 432x288 with 1 Axes>"
      ]
     },
     "metadata": {
      "needs_background": "light"
     },
     "output_type": "display_data"
    }
   ],
   "source": [
    "gender = ['Mahasiswa', 'Mahasiswi']\n",
    "jumlah = [55,75]\n",
    "plt.bar(gender,jumlah)"
   ]
  },
  {
   "cell_type": "code",
   "execution_count": 153,
   "id": "dac4d733",
   "metadata": {},
   "outputs": [
    {
     "data": {
      "image/png": "[encoded data removed]",
      "text/plain": [
       "<Figure size 576x288 with 1 Axes>"
      ]
     },
     "metadata": {
      "needs_background": "light"
     },
     "output_type": "display_data"
    }
   ],
   "source": [
    "penyanyi = ['Armand', 'Ariel', 'Once', 'Ari Lasso']\n",
    "penggemar = [99,49,29,150]\n",
    "\n",
    "plt.figure(figsize=(8,4))\n",
    "histogram = plt.bar(penyanyi, penggemar, color = 'pink')\n",
    "\n",
    "histogram[0].set_hatch('x')\n",
    "histogram[1].set_hatch('*')\n",
    "histogram[2].set_hatch('.')\n",
    "histogram[3].set_hatch('/')\n",
    "plt.show()"
   ]
  },
  {
   "cell_type": "code",
   "execution_count": 160,
   "id": "5cf17f2d",
   "metadata": {},
   "outputs": [
    {
     "data": {
      "image/png": "[encoded data removed]",
      "text/plain": [
       "<Figure size 576x288 with 1 Axes>"
      ]
     },
     "metadata": {
      "needs_background": "light"
     },
     "output_type": "display_data"
    }
   ],
   "source": [
    "penyanyi = ['Armand', 'Ariel', 'Once', 'Ari Lasso']\n",
    "penggemar = [99,49,29,150]\n",
    "\n",
    "plt.figure(figsize=(8,4))\n",
    "hist = plt.bar(penyanyi, penggemar, color = 'pink')\n",
    "pola = ['x','*','.','/']\n",
    "\n",
    "for i in [1,2,3]:\n",
    "    hist[i].set_hatch(pola[i])\n",
    "    \n",
    "plt.show()"
   ]
  },
  {
   "cell_type": "code",
   "execution_count": null,
   "id": "e0b40ae2",
   "metadata": {},
   "outputs": [],
   "source": []
  }
 ],
 "metadata": {
  "kernelspec": {
   "display_name": "Python 3 (ipykernel)",
   "language": "python",
   "name": "python3"
  },
  "language_info": {
   "codemirror_mode": {
    "name": "ipython",
    "version": 3
   },
   "file_extension": ".py",
   "mimetype": "text/x-python",
   "name": "python",
   "nbconvert_exporter": "python",
   "pygments_lexer": "ipython3",
   "version": "3.9.7"
  }
 },
 "nbformat": 4,
 "nbformat_minor": 5
}
