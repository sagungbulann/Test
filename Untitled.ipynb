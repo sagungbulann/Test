{
 "cells": [
  {
   "cell_type": "code",
   "execution_count": null,
   "id": "f06edd07",
   "metadata": {},
   "outputs": [],
   "source": [
    "data_orang={\n",
    "    \"nama\" : \"Sagung Bulan\",\n",
    "    \"umur\" : 19,\n",
    "    \"apakah_single\" : True\n",
    "}"
   ]
  },
  {
   "cell_type": "code",
   "execution_count": null,
   "id": "914b39f5",
   "metadata": {},
   "outputs": [],
   "source": [
    "print((data_orang)['nama'])"
   ]
  },
  {
   "cell_type": "code",
   "execution_count": null,
   "id": "85eff442",
   "metadata": {},
   "outputs": [],
   "source": []
  },
  {
   "cell_type": "code",
   "execution_count": null,
   "id": "01323271",
   "metadata": {},
   "outputs": [],
   "source": []
  },
  {
   "cell_type": "code",
   "execution_count": null,
   "id": "b1c9b05d",
   "metadata": {},
   "outputs": [],
   "source": []
  }
 ],
 "metadata": {
  "kernelspec": {
   "display_name": "Python 3 (ipykernel)",
   "language": "python",
   "name": "python3"
  },
  "language_info": {
   "codemirror_mode": {
    "name": "ipython",
    "version": 3
   },
   "file_extension": ".py",
   "mimetype": "text/x-python",
   "name": "python",
   "nbconvert_exporter": "python",
   "pygments_lexer": "ipython3",
   "version": "3.9.7"
  }
 },
 "nbformat": 4,
 "nbformat_minor": 5
}
